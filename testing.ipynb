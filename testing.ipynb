{
 "cells": [
  {
   "cell_type": "markdown",
   "metadata": {
    "id": "RIxk8XI6uL6f"
   },
   "source": [
    "# Testing"
   ]
  },
  {
   "cell_type": "code",
   "execution_count": 16,
   "metadata": {},
   "outputs": [],
   "source": [
    "import warnings\n",
    "warnings.filterwarnings(\"ignore\",category=DeprecationWarning,message='.*') \n",
    "warnings.filterwarnings(\"ignore\",category=FutureWarning,message='.*')\n",
    "warnings.filterwarnings(\"ignore\",category=PendingDeprecationWarning,message='.*')"
   ]
  },
  {
   "cell_type": "code",
   "execution_count": 14,
   "metadata": {
    "id": "i2ynUkhmtO8b"
   },
   "outputs": [],
   "source": [
    "import numpy as np\n",
    "import os\n",
    "import pandas as pd\n",
    "import open3d as o3d\n",
    "import tensorflow as tf\n",
    "\n",
    "import gym\n",
    "from stable_baselines import ppo1\n",
    "from stable_baselines.common.policies import MlpPolicy\n",
    "\n",
    "from Augmentation import Augmentation\n",
    "from PcdController import PcdController as cloud\n",
    "from FootEnvironment import FootEnv"
   ]
  },
  {
   "cell_type": "code",
   "execution_count": 3,
   "metadata": {},
   "outputs": [
    {
     "name": "stdout",
     "output_type": "stream",
     "text": [
      "Loaded 200 point clouds into memory\n",
      "Epochs will termintate after 10% points deleted or 200 timestaps\n",
      "Shape of returned obs: (4421, 3)\n",
      "Internal obs space: (4421, 3)\n",
      "\n"
     ]
    },
    {
     "name": "stderr",
     "output_type": "stream",
     "text": [
      "c:\\Users\\Sander Tromp\\Desktop\\SmartscanAI\\PcdController.py:86: RuntimeWarning: invalid value encountered in arccos\n",
      "  angle = np.arccos(dot_product)\n"
     ]
    },
    {
     "ename": "AssertionError",
     "evalue": "The observation returned by the `step()` method does not match the given observation space",
     "output_type": "error",
     "traceback": [
      "\u001b[1;31m---------------------------------------------------------------------------\u001b[0m",
      "\u001b[1;31mAssertionError\u001b[0m                            Traceback (most recent call last)",
      "\u001b[1;32mC:\\Users\\SANDER~1\\AppData\\Local\\Temp/ipykernel_15160/3241791552.py\u001b[0m in \u001b[0;36m<module>\u001b[1;34m\u001b[0m\n\u001b[0;32m      8\u001b[0m \u001b[0mprint\u001b[0m\u001b[1;33m(\u001b[0m\u001b[1;33m)\u001b[0m\u001b[1;33m\u001b[0m\u001b[1;33m\u001b[0m\u001b[0m\n\u001b[0;32m      9\u001b[0m \u001b[1;33m\u001b[0m\u001b[0m\n\u001b[1;32m---> 10\u001b[1;33m \u001b[0mcheck_env\u001b[0m\u001b[1;33m(\u001b[0m\u001b[0menv\u001b[0m\u001b[1;33m,\u001b[0m\u001b[1;32mFalse\u001b[0m\u001b[1;33m,\u001b[0m\u001b[1;32mTrue\u001b[0m\u001b[1;33m)\u001b[0m\u001b[1;33m\u001b[0m\u001b[1;33m\u001b[0m\u001b[0m\n\u001b[0m",
      "\u001b[1;32mD:\\Anaconda\\Anaconda3\\envs\\ssai\\lib\\site-packages\\stable_baselines\\common\\env_checker.py\u001b[0m in \u001b[0;36mcheck_env\u001b[1;34m(env, warn, skip_render_check)\u001b[0m\n\u001b[0;32m    212\u001b[0m \u001b[1;33m\u001b[0m\u001b[0m\n\u001b[0;32m    213\u001b[0m     \u001b[1;31m# ============ Check the returned values ===============\u001b[0m\u001b[1;33m\u001b[0m\u001b[1;33m\u001b[0m\u001b[1;33m\u001b[0m\u001b[0m\n\u001b[1;32m--> 214\u001b[1;33m     \u001b[0m_check_returned_values\u001b[0m\u001b[1;33m(\u001b[0m\u001b[0menv\u001b[0m\u001b[1;33m,\u001b[0m \u001b[0mobservation_space\u001b[0m\u001b[1;33m,\u001b[0m \u001b[0maction_space\u001b[0m\u001b[1;33m)\u001b[0m\u001b[1;33m\u001b[0m\u001b[1;33m\u001b[0m\u001b[0m\n\u001b[0m\u001b[0;32m    215\u001b[0m \u001b[1;33m\u001b[0m\u001b[0m\n\u001b[0;32m    216\u001b[0m     \u001b[1;31m# ==== Check the render method and the declared render modes ====\u001b[0m\u001b[1;33m\u001b[0m\u001b[1;33m\u001b[0m\u001b[1;33m\u001b[0m\u001b[0m\n",
      "\u001b[1;32mD:\\Anaconda\\Anaconda3\\envs\\ssai\\lib\\site-packages\\stable_baselines\\common\\env_checker.py\u001b[0m in \u001b[0;36m_check_returned_values\u001b[1;34m(env, observation_space, action_space)\u001b[0m\n\u001b[0;32m    108\u001b[0m     \u001b[0mobs\u001b[0m\u001b[1;33m,\u001b[0m \u001b[0mreward\u001b[0m\u001b[1;33m,\u001b[0m \u001b[0mdone\u001b[0m\u001b[1;33m,\u001b[0m \u001b[0minfo\u001b[0m \u001b[1;33m=\u001b[0m \u001b[0mdata\u001b[0m\u001b[1;33m\u001b[0m\u001b[1;33m\u001b[0m\u001b[0m\n\u001b[0;32m    109\u001b[0m \u001b[1;33m\u001b[0m\u001b[0m\n\u001b[1;32m--> 110\u001b[1;33m     \u001b[0m_check_obs\u001b[0m\u001b[1;33m(\u001b[0m\u001b[0mobs\u001b[0m\u001b[1;33m,\u001b[0m \u001b[0mobservation_space\u001b[0m\u001b[1;33m,\u001b[0m \u001b[1;34m'step'\u001b[0m\u001b[1;33m)\u001b[0m\u001b[1;33m\u001b[0m\u001b[1;33m\u001b[0m\u001b[0m\n\u001b[0m\u001b[0;32m    111\u001b[0m \u001b[1;33m\u001b[0m\u001b[0m\n\u001b[0;32m    112\u001b[0m     \u001b[1;31m# We also allow int because the reward will be cast to float\u001b[0m\u001b[1;33m\u001b[0m\u001b[1;33m\u001b[0m\u001b[1;33m\u001b[0m\u001b[0m\n",
      "\u001b[1;32mD:\\Anaconda\\Anaconda3\\envs\\ssai\\lib\\site-packages\\stable_baselines\\common\\env_checker.py\u001b[0m in \u001b[0;36m_check_obs\u001b[1;34m(obs, observation_space, method_name)\u001b[0m\n\u001b[0;32m     87\u001b[0m \u001b[1;33m\u001b[0m\u001b[0m\n\u001b[0;32m     88\u001b[0m     assert observation_space.contains(obs), (\"The observation returned by the `{}()` \"\n\u001b[1;32m---> 89\u001b[1;33m                                              \"method does not match the given observation space\".format(method_name))\n\u001b[0m\u001b[0;32m     90\u001b[0m \u001b[1;33m\u001b[0m\u001b[0m\n\u001b[0;32m     91\u001b[0m \u001b[1;33m\u001b[0m\u001b[0m\n",
      "\u001b[1;31mAssertionError\u001b[0m: The observation returned by the `step()` method does not match the given observation space"
     ]
    }
   ],
   "source": [
    "from stable_baselines.common.env_checker import check_env\n",
    "\n",
    "env = FootEnv('pc_out')\n",
    "\n",
    "t = env.reset()\n",
    "print(\"Shape of returned obs:\",t.shape)\n",
    "print(\"Internal obs space:\",env.observation_space._shape)\n",
    "print()\n",
    "\n",
    "check_env(env,False,True)"
   ]
  },
  {
   "cell_type": "code",
   "execution_count": 19,
   "metadata": {},
   "outputs": [],
   "source": [
    "l = Augmentation.load_folder('pc_out')"
   ]
  },
  {
   "cell_type": "code",
   "execution_count": 20,
   "metadata": {},
   "outputs": [],
   "source": [
    "sizes = [len(i.points) for i in l]"
   ]
  },
  {
   "cell_type": "code",
   "execution_count": 24,
   "metadata": {},
   "outputs": [
    {
     "name": "stdout",
     "output_type": "stream",
     "text": [
      "[2188, 2188, 2188, 2188, 2188, 2625, 2625, 2625, 2625, 2625, 2639, 2639, 2639, 2639, 2639, 2854, 2854, 2854, 2854, 2854, 3063, 3063, 3063, 3063, 3063, 3166, 3166, 3166, 3166, 3166, 3424, 3424, 3424, 3424, 3424, 3437, 3437, 3437, 3437, 3437, 3500, 3500, 3500, 3500, 3500, 3694, 3694, 3694, 3694, 3694, 3938, 3938, 3938, 3938, 3938, 3995, 3995, 3995, 3995, 3995, 4124, 4124, 4124, 4124, 4124, 4222, 4222, 4222, 4222, 4222, 4421, 4421, 4421, 4421, 4421, 4566, 4566, 4566, 4566, 4566, 4750, 4750, 4750, 4750, 4750, 4811, 4811, 4811, 4811, 4811, 5137, 5137, 5137, 5137, 5137, 5305, 5305, 5305, 5305, 5305, 5362, 5362, 5362, 5362, 5362, 5499, 5499, 5499, 5499, 5499, 5660, 5660, 5660, 5660, 5660, 6002, 6002, 6002, 6002, 6002, 6186, 6186, 6186, 6186, 6186, 6189, 6189, 6189, 6189, 6189, 6434, 6434, 6434, 6434, 6434, 6792, 6792, 6792, 6792, 6792, 7073, 7073, 7073, 7073, 7073, 7202, 7202, 7202, 7202, 7202, 7506, 7506, 7506, 7506, 7506, 7924, 7924, 7924, 7924, 7924, 7957, 7957, 7957, 7957, 7957, 8402, 8402, 8402, 8402, 8402, 8579, 8579, 8579, 8579, 8579, 9056, 9056, 9056, 9056, 9056, 9603, 9603, 9603, 9603, 9603, 9651, 9651, 9651, 9651, 9651, 10188, 10188, 10188, 10188, 10188, 10803, 10803, 10803, 10803, 10803]\n"
     ]
    }
   ],
   "source": [
    "sizes.sort()\n",
    "print(sizes)"
   ]
  }
 ],
 "metadata": {
  "colab": {
   "collapsed_sections": [
    "WWP0sQ4ntO87",
    "tOiVmN5rtO9E",
    "yYBKgR1MtO9K",
    "antArO3xtO9U",
    "ZkO5kHd6tO9i",
    "w2y9CF4AtO9m",
    "a8MFLzWPtO9p"
   ],
   "name": "MiniProject_Learning_Store_Recommender.ipynb",
   "provenance": [
    {
     "file_id": "1i-i1EOS7uBZClPe8zoBGjeE-6yeNrz-H",
     "timestamp": 1593176441166
    }
   ]
  },
  "kernelspec": {
   "display_name": "Python 3",
   "language": "python",
   "name": "python3"
  },
  "language_info": {
   "codemirror_mode": {
    "name": "ipython",
    "version": 3
   },
   "file_extension": ".py",
   "mimetype": "text/x-python",
   "name": "python",
   "nbconvert_exporter": "python",
   "pygments_lexer": "ipython3",
   "version": "3.7.11"
  }
 },
 "nbformat": 4,
 "nbformat_minor": 1
}
