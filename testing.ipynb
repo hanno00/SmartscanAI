{
 "cells": [
  {
   "cell_type": "markdown",
   "metadata": {
    "id": "RIxk8XI6uL6f"
   },
   "source": [
    "# Testing"
   ]
  },
  {
   "cell_type": "code",
   "execution_count": 1,
   "metadata": {},
   "outputs": [],
   "source": [
    "import warnings\n",
    "warnings.filterwarnings(\"ignore\",category=DeprecationWarning,message='.*') \n",
    "warnings.filterwarnings(\"ignore\",category=FutureWarning,message='.*')\n",
    "warnings.filterwarnings(\"ignore\",category=PendingDeprecationWarning,message='.*')"
   ]
  },
  {
   "cell_type": "code",
   "execution_count": 1,
   "metadata": {
    "id": "i2ynUkhmtO8b"
   },
   "outputs": [
    {
     "name": "stdout",
     "output_type": "stream",
     "text": [
      "Jupyter environment detected. Enabling Open3D WebVisualizer.\n",
      "[Open3D INFO] WebRTC GUI backend enabled.\n",
      "[Open3D INFO] WebRTCWindowSystem: HTTP handshake server disabled.\n"
     ]
    }
   ],
   "source": [
    "import numpy as np\n",
    "import os\n",
    "import pandas as pd\n",
    "import open3d as o3d\n",
    "import tensorflow as tf\n",
    "\n",
    "import gym\n",
    "from stable_baselines3 import PPO\n",
    "\n",
    "from Augmentation import Augmentation\n",
    "from PcdController import PcdController as cloud\n",
    "from FootEnvironment import FootEnv"
   ]
  },
  {
   "cell_type": "code",
   "execution_count": 63,
   "metadata": {},
   "outputs": [],
   "source": [
    "l = Augmentation.load_folder('pc_out')"
   ]
  },
  {
   "cell_type": "code",
   "execution_count": 20,
   "metadata": {},
   "outputs": [],
   "source": [
    "sizes = [len(i.points) for i in l]"
   ]
  },
  {
   "cell_type": "code",
   "execution_count": 24,
   "metadata": {},
   "outputs": [
    {
     "name": "stdout",
     "output_type": "stream",
     "text": [
      "[2188, 2188, 2188, 2188, 2188, 2625, 2625, 2625, 2625, 2625, 2639, 2639, 2639, 2639, 2639, 2854, 2854, 2854, 2854, 2854, 3063, 3063, 3063, 3063, 3063, 3166, 3166, 3166, 3166, 3166, 3424, 3424, 3424, 3424, 3424, 3437, 3437, 3437, 3437, 3437, 3500, 3500, 3500, 3500, 3500, 3694, 3694, 3694, 3694, 3694, 3938, 3938, 3938, 3938, 3938, 3995, 3995, 3995, 3995, 3995, 4124, 4124, 4124, 4124, 4124, 4222, 4222, 4222, 4222, 4222, 4421, 4421, 4421, 4421, 4421, 4566, 4566, 4566, 4566, 4566, 4750, 4750, 4750, 4750, 4750, 4811, 4811, 4811, 4811, 4811, 5137, 5137, 5137, 5137, 5137, 5305, 5305, 5305, 5305, 5305, 5362, 5362, 5362, 5362, 5362, 5499, 5499, 5499, 5499, 5499, 5660, 5660, 5660, 5660, 5660, 6002, 6002, 6002, 6002, 6002, 6186, 6186, 6186, 6186, 6186, 6189, 6189, 6189, 6189, 6189, 6434, 6434, 6434, 6434, 6434, 6792, 6792, 6792, 6792, 6792, 7073, 7073, 7073, 7073, 7073, 7202, 7202, 7202, 7202, 7202, 7506, 7506, 7506, 7506, 7506, 7924, 7924, 7924, 7924, 7924, 7957, 7957, 7957, 7957, 7957, 8402, 8402, 8402, 8402, 8402, 8579, 8579, 8579, 8579, 8579, 9056, 9056, 9056, 9056, 9056, 9603, 9603, 9603, 9603, 9603, 9651, 9651, 9651, 9651, 9651, 10188, 10188, 10188, 10188, 10188, 10803, 10803, 10803, 10803, 10803]\n"
     ]
    }
   ],
   "source": [
    "sizes.sort()\n",
    "print(sizes)"
   ]
  },
  {
   "cell_type": "code",
   "execution_count": 42,
   "metadata": {},
   "outputs": [],
   "source": [
    "def move(movement):\n",
    "    squares = np.square(movement)\n",
    "    total = 0\n",
    "    for row in squares:\n",
    "        total += np.sqrt(sum(row))\n",
    "    return total"
   ]
  },
  {
   "cell_type": "code",
   "execution_count": 51,
   "metadata": {},
   "outputs": [
    {
     "data": {
      "text/plain": [
       "True"
      ]
     },
     "execution_count": 51,
     "metadata": {},
     "output_type": "execute_result"
    }
   ],
   "source": [
    "foot = pd.read_csv('PointCloudKubus.csv')\n",
    "points = []\n",
    "for i in range(len(foot)):\n",
    "    points.append([foot[\"X\"][i],foot[\"Y\"][i],foot[\"Z\"][i]])\n",
    "pcd = o3d.geometry.PointCloud()\n",
    "pcd.points = o3d.utility.Vector3dVector(points)\n",
    "o3d.io.write_point_cloud('kubus.ply', pcd)"
   ]
  },
  {
   "cell_type": "code",
   "execution_count": 62,
   "metadata": {},
   "outputs": [
    {
     "name": "stdout",
     "output_type": "stream",
     "text": [
      "Moved pointcloud 2.4026651868289934 units:\n",
      " [[ 3.000e-01  1.000e-02 -1.000e-02]\n",
      " [ 1.030e+01  1.000e-02 -1.000e-02]\n",
      " [ 3.000e-01  1.001e+01 -1.000e-02]\n",
      " [ 3.000e-01  1.000e-02  9.990e+00]\n",
      " [ 1.030e+01  1.001e+01 -1.000e-02]\n",
      " [ 1.030e+01  1.000e-02  9.990e+00]\n",
      " [ 3.000e-01  1.001e+01  9.990e+00]\n",
      " [ 1.030e+01  1.001e+01  9.990e+00]]\n"
     ]
    }
   ],
   "source": [
    "movement = [[0.3,0.01,-0.01] for _ in range(8)]\n",
    "new_pc = np.add(points,movement)\n",
    "dist = move(movement)\n",
    "print(f'Moved pointcloud {dist} units:\\n',new_pc)"
   ]
  },
  {
   "cell_type": "code",
   "execution_count": 59,
   "metadata": {},
   "outputs": [],
   "source": [
    "class Testing():\n",
    "    def __init__(self):\n",
    "        self.a = 1\n",
    "        self.b = 2\n",
    "        self.c = 3\n",
    "        self.func()\n",
    "\n",
    "    def func(self):\n",
    "        self.d = self.a + self.c"
   ]
  },
  {
   "cell_type": "code",
   "execution_count": 70,
   "metadata": {},
   "outputs": [
    {
     "data": {
      "text/plain": [
       "4421"
      ]
     },
     "execution_count": 70,
     "metadata": {},
     "output_type": "execute_result"
    }
   ],
   "source": [
    "t = l[0]\n",
    "len(t.points)"
   ]
  }
 ],
 "metadata": {
  "colab": {
   "collapsed_sections": [
    "WWP0sQ4ntO87",
    "tOiVmN5rtO9E",
    "yYBKgR1MtO9K",
    "antArO3xtO9U",
    "ZkO5kHd6tO9i",
    "w2y9CF4AtO9m",
    "a8MFLzWPtO9p"
   ],
   "name": "MiniProject_Learning_Store_Recommender.ipynb",
   "provenance": [
    {
     "file_id": "1i-i1EOS7uBZClPe8zoBGjeE-6yeNrz-H",
     "timestamp": 1593176441166
    }
   ]
  },
  "kernelspec": {
   "display_name": "Python 3",
   "language": "python",
   "name": "python3"
  },
  "language_info": {
   "codemirror_mode": {
    "name": "ipython",
    "version": 3
   },
   "file_extension": ".py",
   "mimetype": "text/x-python",
   "name": "python",
   "nbconvert_exporter": "python",
   "pygments_lexer": "ipython3",
   "version": "3.8.12"
  }
 },
 "nbformat": 4,
 "nbformat_minor": 1
}
