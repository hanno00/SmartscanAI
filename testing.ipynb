{
 "cells": [
  {
   "cell_type": "markdown",
   "metadata": {
    "id": "RIxk8XI6uL6f"
   },
   "source": [
    "# Testing"
   ]
  },
  {
   "cell_type": "code",
   "execution_count": 16,
   "metadata": {},
   "outputs": [],
   "source": [
    "import warnings\n",
    "warnings.filterwarnings(\"ignore\",category=DeprecationWarning,message='.*') \n",
    "warnings.filterwarnings(\"ignore\",category=FutureWarning,message='.*')\n",
    "warnings.filterwarnings(\"ignore\",category=PendingDeprecationWarning,message='.*')"
   ]
  },
  {
   "cell_type": "code",
   "execution_count": 47,
   "metadata": {
    "id": "i2ynUkhmtO8b"
   },
   "outputs": [],
   "source": [
    "import numpy as np\n",
    "import os\n",
    "import pandas as pd\n",
    "import open3d as o3d\n",
    "import tensorflow as tf\n",
    "\n",
    "import gym\n",
    "from stable_baselines import ppo1\n",
    "from stable_baselines.common.policies import MlpPolicy\n",
    "\n",
    "from Augmentation import Augmentation\n",
    "from PcdController import PcdController as cloud\n",
    "from FootEnvironment import FootEnv"
   ]
  },
  {
   "cell_type": "code",
   "execution_count": 19,
   "metadata": {},
   "outputs": [],
   "source": [
    "l = Augmentation.load_folder('pc_out')"
   ]
  },
  {
   "cell_type": "code",
   "execution_count": 20,
   "metadata": {},
   "outputs": [],
   "source": [
    "sizes = [len(i.points) for i in l]"
   ]
  },
  {
   "cell_type": "code",
   "execution_count": 24,
   "metadata": {},
   "outputs": [
    {
     "name": "stdout",
     "output_type": "stream",
     "text": [
      "[2188, 2188, 2188, 2188, 2188, 2625, 2625, 2625, 2625, 2625, 2639, 2639, 2639, 2639, 2639, 2854, 2854, 2854, 2854, 2854, 3063, 3063, 3063, 3063, 3063, 3166, 3166, 3166, 3166, 3166, 3424, 3424, 3424, 3424, 3424, 3437, 3437, 3437, 3437, 3437, 3500, 3500, 3500, 3500, 3500, 3694, 3694, 3694, 3694, 3694, 3938, 3938, 3938, 3938, 3938, 3995, 3995, 3995, 3995, 3995, 4124, 4124, 4124, 4124, 4124, 4222, 4222, 4222, 4222, 4222, 4421, 4421, 4421, 4421, 4421, 4566, 4566, 4566, 4566, 4566, 4750, 4750, 4750, 4750, 4750, 4811, 4811, 4811, 4811, 4811, 5137, 5137, 5137, 5137, 5137, 5305, 5305, 5305, 5305, 5305, 5362, 5362, 5362, 5362, 5362, 5499, 5499, 5499, 5499, 5499, 5660, 5660, 5660, 5660, 5660, 6002, 6002, 6002, 6002, 6002, 6186, 6186, 6186, 6186, 6186, 6189, 6189, 6189, 6189, 6189, 6434, 6434, 6434, 6434, 6434, 6792, 6792, 6792, 6792, 6792, 7073, 7073, 7073, 7073, 7073, 7202, 7202, 7202, 7202, 7202, 7506, 7506, 7506, 7506, 7506, 7924, 7924, 7924, 7924, 7924, 7957, 7957, 7957, 7957, 7957, 8402, 8402, 8402, 8402, 8402, 8579, 8579, 8579, 8579, 8579, 9056, 9056, 9056, 9056, 9056, 9603, 9603, 9603, 9603, 9603, 9651, 9651, 9651, 9651, 9651, 10188, 10188, 10188, 10188, 10188, 10803, 10803, 10803, 10803, 10803]\n"
     ]
    }
   ],
   "source": [
    "sizes.sort()\n",
    "print(sizes)"
   ]
  },
  {
   "cell_type": "code",
   "execution_count": 42,
   "metadata": {},
   "outputs": [],
   "source": [
    "def move(movement):\n",
    "    squares = np.square(movement)\n",
    "    total = 0\n",
    "    for row in squares:\n",
    "        total += np.sqrt(sum(row))\n",
    "    return total"
   ]
  },
  {
   "cell_type": "code",
   "execution_count": 51,
   "metadata": {},
   "outputs": [
    {
     "data": {
      "text/plain": [
       "True"
      ]
     },
     "execution_count": 51,
     "metadata": {},
     "output_type": "execute_result"
    }
   ],
   "source": [
    "foot = pd.read_csv('PointCloudKubus.csv')\n",
    "points = []\n",
    "for i in range(len(foot)):\n",
    "    points.append([foot[\"X\"][i],foot[\"Y\"][i],foot[\"Z\"][i]])\n",
    "pcd = o3d.geometry.PointCloud()\n",
    "pcd.points = o3d.utility.Vector3dVector(points)\n",
    "o3d.io.write_point_cloud('kubus.ply', pcd)"
   ]
  },
  {
   "cell_type": "code",
   "execution_count": 58,
   "metadata": {},
   "outputs": [
    {
     "name": "stdout",
     "output_type": "stream",
     "text": [
      "Moved pointcloud 8.0 units:\n",
      " [[ 1  0  0]\n",
      " [11  0  0]\n",
      " [ 1 10  0]\n",
      " [ 1  0 10]\n",
      " [11 10  0]\n",
      " [11  0 10]\n",
      " [ 1 10 10]\n",
      " [11 10 10]]\n"
     ]
    }
   ],
   "source": [
    "movement = [[1,0,0] for _ in range(8)]\n",
    "new_pc = np.add(points,movement)\n",
    "dist = move(movement)\n",
    "print(f'Moved pointcloud {dist} units:\\n',new_pc)"
   ]
  },
  {
   "cell_type": "code",
   "execution_count": 59,
   "metadata": {},
   "outputs": [],
   "source": [
    "class Testing():\n",
    "    def __init__(self):\n",
    "        self.a = 1\n",
    "        self.b = 2\n",
    "        self.c = 3\n",
    "        self.func()\n",
    "\n",
    "    def func(self):\n",
    "        self.d = self.a + self.c"
   ]
  },
  {
   "cell_type": "code",
   "execution_count": 60,
   "metadata": {},
   "outputs": [],
   "source": [
    "t = Testing()"
   ]
  }
 ],
 "metadata": {
  "colab": {
   "collapsed_sections": [
    "WWP0sQ4ntO87",
    "tOiVmN5rtO9E",
    "yYBKgR1MtO9K",
    "antArO3xtO9U",
    "ZkO5kHd6tO9i",
    "w2y9CF4AtO9m",
    "a8MFLzWPtO9p"
   ],
   "name": "MiniProject_Learning_Store_Recommender.ipynb",
   "provenance": [
    {
     "file_id": "1i-i1EOS7uBZClPe8zoBGjeE-6yeNrz-H",
     "timestamp": 1593176441166
    }
   ]
  },
  "kernelspec": {
   "display_name": "Python 3",
   "language": "python",
   "name": "python3"
  },
  "language_info": {
   "codemirror_mode": {
    "name": "ipython",
    "version": 3
   },
   "file_extension": ".py",
   "mimetype": "text/x-python",
   "name": "python",
   "nbconvert_exporter": "python",
   "pygments_lexer": "ipython3",
   "version": "3.7.11"
  }
 },
 "nbformat": 4,
 "nbformat_minor": 1
}
