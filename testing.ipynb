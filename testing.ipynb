{
 "cells": [
  {
   "cell_type": "markdown",
   "metadata": {
    "id": "RIxk8XI6uL6f"
   },
   "source": [
    "# Testing"
   ]
  },
  {
   "cell_type": "code",
   "execution_count": 1,
   "metadata": {},
   "outputs": [],
   "source": [
    "import warnings\n",
    "warnings.filterwarnings(\"ignore\",category=DeprecationWarning,message='.*') \n",
    "warnings.filterwarnings(\"ignore\",category=FutureWarning,message='.*')\n",
    "warnings.filterwarnings(\"ignore\",category=PendingDeprecationWarning,message='.*')"
   ]
  },
  {
   "cell_type": "code",
   "execution_count": 2,
   "metadata": {
    "id": "i2ynUkhmtO8b"
   },
   "outputs": [
    {
     "name": "stdout",
     "output_type": "stream",
     "text": [
      "Jupyter environment detected. Enabling Open3D WebVisualizer.\n",
      "[Open3D INFO] WebRTC GUI backend enabled.\n",
      "[Open3D INFO] WebRTCWindowSystem: HTTP handshake server disabled.\n"
     ]
    }
   ],
   "source": [
    "import numpy as np\n",
    "import os\n",
    "import pandas as pd\n",
    "import open3d as o3d\n",
    "import tensorflow as tf\n",
    "\n",
    "import gym\n",
    "from stable_baselines3 import PPO\n",
    "\n",
    "from Augmentation import Augmentation\n",
    "from PcdController import PcdController as cloud\n",
    "from FootEnvironment import FootEnv\n",
    "from Preprocessing import Preprocessing as pre"
   ]
  },
  {
   "cell_type": "code",
   "execution_count": 3,
   "metadata": {},
   "outputs": [],
   "source": [
    "if False:\n",
    "    from Augmentation import Augmentation\n",
    "    Augmentation.augment_folder('original_point_clouds','csv_out',csv=True)\n",
    "\n",
    "if False:\n",
    "    from Augmentation import Augmentation\n",
    "    Augmentation.augment_file('PointCloudKubus.csv','testing',number=69)"
   ]
  },
  {
   "cell_type": "code",
   "execution_count": 10,
   "metadata": {},
   "outputs": [],
   "source": [
    "#pre.convert_folder('csv_out','ply_out',3500)"
   ]
  },
  {
   "cell_type": "code",
   "execution_count": 5,
   "metadata": {},
   "outputs": [
    {
     "name": "stdout",
     "output_type": "stream",
     "text": [
      "200\n"
     ]
    }
   ],
   "source": [
    "l = Augmentation.load_folder_ply('ply_out')\n",
    "print(len(l))"
   ]
  }
 ],
 "metadata": {
  "colab": {
   "collapsed_sections": [
    "WWP0sQ4ntO87",
    "tOiVmN5rtO9E",
    "yYBKgR1MtO9K",
    "antArO3xtO9U",
    "ZkO5kHd6tO9i",
    "w2y9CF4AtO9m",
    "a8MFLzWPtO9p"
   ],
   "name": "MiniProject_Learning_Store_Recommender.ipynb",
   "provenance": [
    {
     "file_id": "1i-i1EOS7uBZClPe8zoBGjeE-6yeNrz-H",
     "timestamp": 1593176441166
    }
   ]
  },
  "kernelspec": {
   "display_name": "Python 3",
   "language": "python",
   "name": "python3"
  },
  "language_info": {
   "codemirror_mode": {
    "name": "ipython",
    "version": 3
   },
   "file_extension": ".py",
   "mimetype": "text/x-python",
   "name": "python",
   "nbconvert_exporter": "python",
   "pygments_lexer": "ipython3",
   "version": "3.8.12"
  }
 },
 "nbformat": 4,
 "nbformat_minor": 1
}
