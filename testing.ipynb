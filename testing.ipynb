{
 "cells": [
  {
   "cell_type": "markdown",
   "metadata": {
    "id": "RIxk8XI6uL6f"
   },
   "source": [
    "# Testing"
   ]
  },
  {
   "cell_type": "code",
   "execution_count": 1,
   "metadata": {
    "id": "i2ynUkhmtO8b"
   },
   "outputs": [],
   "source": [
    "import numpy as np"
   ]
  },
  {
   "cell_type": "code",
   "execution_count": 6,
   "metadata": {},
   "outputs": [
    {
     "name": "stdout",
     "output_type": "stream",
     "text": [
      "hoek: 0.7116057497599012 (40.77200613848494°)\n"
     ]
    }
   ],
   "source": [
    "vector_1 = [0, 0.2555, 0.33]\n",
    "vector_2 = [0.1, 0, 0.3331]\n",
    "\n",
    "unit_vector_1 = vector_1 / np.linalg.norm(vector_1)\n",
    "unit_vector_2 = vector_2 / np.linalg.norm(vector_2)\n",
    "dot_product = np.dot(unit_vector_1, unit_vector_2)\n",
    "angle = np.arccos(dot_product)\n",
    "\n",
    "print(\"hoek: {} ({}°)\".format(angle,angle*180/np.pi))"
   ]
  },
  {
   "cell_type": "code",
   "execution_count": 7,
   "metadata": {},
   "outputs": [
    {
     "name": "stdout",
     "output_type": "stream",
     "text": [
      "Jupyter environment detected. Enabling Open3D WebVisualizer.\n",
      "[Open3D INFO] WebRTC GUI backend enabled.\n",
      "[Open3D INFO] WebRTCWindowSystem: HTTP handshake server disabled.\n"
     ]
    }
   ],
   "source": [
    "import open3d as o3d"
   ]
  },
  {
   "cell_type": "code",
   "execution_count": null,
   "metadata": {},
   "outputs": [],
   "source": []
  }
 ],
 "metadata": {
  "colab": {
   "collapsed_sections": [
    "WWP0sQ4ntO87",
    "tOiVmN5rtO9E",
    "yYBKgR1MtO9K",
    "antArO3xtO9U",
    "ZkO5kHd6tO9i",
    "w2y9CF4AtO9m",
    "a8MFLzWPtO9p"
   ],
   "name": "MiniProject_Learning_Store_Recommender.ipynb",
   "provenance": [
    {
     "file_id": "1i-i1EOS7uBZClPe8zoBGjeE-6yeNrz-H",
     "timestamp": 1593176441166
    }
   ]
  },
  "kernelspec": {
   "display_name": "Python 3",
   "language": "python",
   "name": "python3"
  },
  "language_info": {
   "codemirror_mode": {
    "name": "ipython",
    "version": 3
   },
   "file_extension": ".py",
   "mimetype": "text/x-python",
   "name": "python",
   "nbconvert_exporter": "python",
   "pygments_lexer": "ipython3",
   "version": "3.9.7"
  }
 },
 "nbformat": 4,
 "nbformat_minor": 1
}
