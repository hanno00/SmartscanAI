{
 "cells": [
  {
   "cell_type": "markdown",
   "metadata": {
    "id": "RIxk8XI6uL6f"
   },
   "source": [
    "# Testing"
   ]
  },
  {
   "cell_type": "code",
   "execution_count": 4,
   "metadata": {
    "id": "i2ynUkhmtO8b"
   },
   "outputs": [
    {
     "name": "stdout",
     "output_type": "stream",
     "text": [
      "Jupyter environment detected. Enabling Open3D WebVisualizer.\n",
      "[Open3D INFO] WebRTC GUI backend enabled.\n",
      "[Open3D INFO] WebRTCWindowSystem: HTTP handshake server disabled.\n"
     ]
    }
   ],
   "source": [
    "import numpy as np\n",
    "import os\n",
    "import pandas as pd\n",
    "import open3d as o3d\n",
    "import tensorflow as tf\n",
    "from Augmentation import Augmentation"
   ]
  },
  {
   "cell_type": "code",
   "execution_count": 5,
   "metadata": {},
   "outputs": [
    {
     "name": "stdout",
     "output_type": "stream",
     "text": [
      "hoek: 0.7116057497599012 (40.77201°)\n"
     ]
    }
   ],
   "source": [
    "vector_1 = [0, 0.2555, 0.33]\n",
    "vector_2 = [0.1, 0, 0.3331]\n",
    "\n",
    "unit_vector_1 = vector_1 / np.linalg.norm(vector_1)\n",
    "unit_vector_2 = vector_2 / np.linalg.norm(vector_2)\n",
    "dot_product = np.dot(unit_vector_1, unit_vector_2)\n",
    "angle = np.arccos(dot_product)\n",
    "\n",
    "print(\"hoek: {} ({:.5f}°)\".format(angle,angle*180/np.pi))"
   ]
  },
  {
   "cell_type": "code",
   "execution_count": null,
   "metadata": {},
   "outputs": [],
   "source": [
    "pcd = o3d.io.read_point_cloud(\"../../test_data/fragment.ply\")\n",
    "print(pcd)\n",
    "print(np.asarray(pcd.points))\n",
    "o3d.visualization.draw_geometries([pcd],\n",
    "                                  zoom=0.3412,\n",
    "                                  front=[0.4257, -0.2125, -0.8795],\n",
    "                                  lookat=[2.6172, 2.0475, 1.532],\n",
    "                                  up=[-0.0694, -0.9768, 0.2024])"
   ]
  },
  {
   "cell_type": "code",
   "execution_count": 22,
   "metadata": {},
   "outputs": [
    {
     "name": "stdout",
     "output_type": "stream",
     "text": [
      "Saved pointcloud in pc_out\\pointcloud_0_0.00_0.00.ply.\n",
      "Saved pointcloud in pc_out\\pointcloud_0_0.00_0.20.ply.\n",
      "Saved pointcloud in pc_out\\pointcloud_0_0.00_0.40.ply.\n",
      "Saved pointcloud in pc_out\\pointcloud_0_0.00_0.60.ply.\n",
      "Saved pointcloud in pc_out\\pointcloud_0_0.00_0.80.ply.\n",
      "Saved pointcloud in pc_out\\pointcloud_0_0.15_0.00.ply.\n",
      "Saved pointcloud in pc_out\\pointcloud_0_0.15_0.20.ply.\n",
      "Saved pointcloud in pc_out\\pointcloud_0_0.15_0.40.ply.\n",
      "Saved pointcloud in pc_out\\pointcloud_0_0.15_0.60.ply.\n",
      "Saved pointcloud in pc_out\\pointcloud_0_0.15_0.80.ply.\n",
      "Saved pointcloud in pc_out\\pointcloud_0_0.30_0.00.ply.\n",
      "Saved pointcloud in pc_out\\pointcloud_0_0.30_0.20.ply.\n",
      "Saved pointcloud in pc_out\\pointcloud_0_0.30_0.40.ply.\n",
      "Saved pointcloud in pc_out\\pointcloud_0_0.30_0.60.ply.\n",
      "Saved pointcloud in pc_out\\pointcloud_0_0.30_0.80.ply.\n",
      "Saved pointcloud in pc_out\\pointcloud_0_0.45_0.00.ply.\n",
      "Saved pointcloud in pc_out\\pointcloud_0_0.45_0.20.ply.\n",
      "Saved pointcloud in pc_out\\pointcloud_0_0.45_0.40.ply.\n",
      "Saved pointcloud in pc_out\\pointcloud_0_0.45_0.60.ply.\n",
      "Saved pointcloud in pc_out\\pointcloud_0_0.45_0.80.ply.\n",
      "Saved pointcloud in pc_out\\pointcloud_0_0.60_0.00.ply.\n",
      "Saved pointcloud in pc_out\\pointcloud_0_0.60_0.20.ply.\n",
      "Saved pointcloud in pc_out\\pointcloud_0_0.60_0.40.ply.\n",
      "Saved pointcloud in pc_out\\pointcloud_0_0.60_0.60.ply.\n",
      "Saved pointcloud in pc_out\\pointcloud_0_0.60_0.80.ply.\n",
      "Saved pointcloud in pc_out\\pointcloud_1_0.00_0.00.ply.\n",
      "Saved pointcloud in pc_out\\pointcloud_1_0.00_0.20.ply.\n",
      "Saved pointcloud in pc_out\\pointcloud_1_0.00_0.40.ply.\n",
      "Saved pointcloud in pc_out\\pointcloud_1_0.00_0.60.ply.\n",
      "Saved pointcloud in pc_out\\pointcloud_1_0.00_0.80.ply.\n",
      "Saved pointcloud in pc_out\\pointcloud_1_0.15_0.00.ply.\n",
      "Saved pointcloud in pc_out\\pointcloud_1_0.15_0.20.ply.\n",
      "Saved pointcloud in pc_out\\pointcloud_1_0.15_0.40.ply.\n",
      "Saved pointcloud in pc_out\\pointcloud_1_0.15_0.60.ply.\n",
      "Saved pointcloud in pc_out\\pointcloud_1_0.15_0.80.ply.\n",
      "Saved pointcloud in pc_out\\pointcloud_1_0.30_0.00.ply.\n",
      "Saved pointcloud in pc_out\\pointcloud_1_0.30_0.20.ply.\n",
      "Saved pointcloud in pc_out\\pointcloud_1_0.30_0.40.ply.\n",
      "Saved pointcloud in pc_out\\pointcloud_1_0.30_0.60.ply.\n",
      "Saved pointcloud in pc_out\\pointcloud_1_0.30_0.80.ply.\n",
      "Saved pointcloud in pc_out\\pointcloud_1_0.45_0.00.ply.\n",
      "Saved pointcloud in pc_out\\pointcloud_1_0.45_0.20.ply.\n",
      "Saved pointcloud in pc_out\\pointcloud_1_0.45_0.40.ply.\n",
      "Saved pointcloud in pc_out\\pointcloud_1_0.45_0.60.ply.\n",
      "Saved pointcloud in pc_out\\pointcloud_1_0.45_0.80.ply.\n",
      "Saved pointcloud in pc_out\\pointcloud_1_0.60_0.00.ply.\n",
      "Saved pointcloud in pc_out\\pointcloud_1_0.60_0.20.ply.\n",
      "Saved pointcloud in pc_out\\pointcloud_1_0.60_0.40.ply.\n",
      "Saved pointcloud in pc_out\\pointcloud_1_0.60_0.60.ply.\n",
      "Saved pointcloud in pc_out\\pointcloud_1_0.60_0.80.ply.\n",
      "Saved pointcloud in pc_out\\pointcloud_2_0.00_0.00.ply.\n",
      "Saved pointcloud in pc_out\\pointcloud_2_0.00_0.20.ply.\n",
      "Saved pointcloud in pc_out\\pointcloud_2_0.00_0.40.ply.\n",
      "Saved pointcloud in pc_out\\pointcloud_2_0.00_0.60.ply.\n",
      "Saved pointcloud in pc_out\\pointcloud_2_0.00_0.80.ply.\n",
      "Saved pointcloud in pc_out\\pointcloud_2_0.15_0.00.ply.\n",
      "Saved pointcloud in pc_out\\pointcloud_2_0.15_0.20.ply.\n",
      "Saved pointcloud in pc_out\\pointcloud_2_0.15_0.40.ply.\n",
      "Saved pointcloud in pc_out\\pointcloud_2_0.15_0.60.ply.\n",
      "Saved pointcloud in pc_out\\pointcloud_2_0.15_0.80.ply.\n",
      "Saved pointcloud in pc_out\\pointcloud_2_0.30_0.00.ply.\n",
      "Saved pointcloud in pc_out\\pointcloud_2_0.30_0.20.ply.\n",
      "Saved pointcloud in pc_out\\pointcloud_2_0.30_0.40.ply.\n",
      "Saved pointcloud in pc_out\\pointcloud_2_0.30_0.60.ply.\n",
      "Saved pointcloud in pc_out\\pointcloud_2_0.30_0.80.ply.\n",
      "Saved pointcloud in pc_out\\pointcloud_2_0.45_0.00.ply.\n",
      "Saved pointcloud in pc_out\\pointcloud_2_0.45_0.20.ply.\n",
      "Saved pointcloud in pc_out\\pointcloud_2_0.45_0.40.ply.\n",
      "Saved pointcloud in pc_out\\pointcloud_2_0.45_0.60.ply.\n",
      "Saved pointcloud in pc_out\\pointcloud_2_0.45_0.80.ply.\n",
      "Saved pointcloud in pc_out\\pointcloud_2_0.60_0.00.ply.\n",
      "Saved pointcloud in pc_out\\pointcloud_2_0.60_0.20.ply.\n",
      "Saved pointcloud in pc_out\\pointcloud_2_0.60_0.40.ply.\n",
      "Saved pointcloud in pc_out\\pointcloud_2_0.60_0.60.ply.\n",
      "Saved pointcloud in pc_out\\pointcloud_2_0.60_0.80.ply.\n",
      "Saved pointcloud in pc_out\\pointcloud_3_0.00_0.00.ply.\n",
      "Saved pointcloud in pc_out\\pointcloud_3_0.00_0.20.ply.\n",
      "Saved pointcloud in pc_out\\pointcloud_3_0.00_0.40.ply.\n",
      "Saved pointcloud in pc_out\\pointcloud_3_0.00_0.60.ply.\n",
      "Saved pointcloud in pc_out\\pointcloud_3_0.00_0.80.ply.\n",
      "Saved pointcloud in pc_out\\pointcloud_3_0.15_0.00.ply.\n",
      "Saved pointcloud in pc_out\\pointcloud_3_0.15_0.20.ply.\n",
      "Saved pointcloud in pc_out\\pointcloud_3_0.15_0.40.ply.\n",
      "Saved pointcloud in pc_out\\pointcloud_3_0.15_0.60.ply.\n",
      "Saved pointcloud in pc_out\\pointcloud_3_0.15_0.80.ply.\n",
      "Saved pointcloud in pc_out\\pointcloud_3_0.30_0.00.ply.\n",
      "Saved pointcloud in pc_out\\pointcloud_3_0.30_0.20.ply.\n",
      "Saved pointcloud in pc_out\\pointcloud_3_0.30_0.40.ply.\n",
      "Saved pointcloud in pc_out\\pointcloud_3_0.30_0.60.ply.\n",
      "Saved pointcloud in pc_out\\pointcloud_3_0.30_0.80.ply.\n",
      "Saved pointcloud in pc_out\\pointcloud_3_0.45_0.00.ply.\n",
      "Saved pointcloud in pc_out\\pointcloud_3_0.45_0.20.ply.\n",
      "Saved pointcloud in pc_out\\pointcloud_3_0.45_0.40.ply.\n",
      "Saved pointcloud in pc_out\\pointcloud_3_0.45_0.60.ply.\n",
      "Saved pointcloud in pc_out\\pointcloud_3_0.45_0.80.ply.\n",
      "Saved pointcloud in pc_out\\pointcloud_3_0.60_0.00.ply.\n",
      "Saved pointcloud in pc_out\\pointcloud_3_0.60_0.20.ply.\n",
      "Saved pointcloud in pc_out\\pointcloud_3_0.60_0.40.ply.\n",
      "Saved pointcloud in pc_out\\pointcloud_3_0.60_0.60.ply.\n",
      "Saved pointcloud in pc_out\\pointcloud_3_0.60_0.80.ply.\n",
      "Saved pointcloud in pc_out\\pointcloud_4_0.00_0.00.ply.\n",
      "Saved pointcloud in pc_out\\pointcloud_4_0.00_0.20.ply.\n",
      "Saved pointcloud in pc_out\\pointcloud_4_0.00_0.40.ply.\n",
      "Saved pointcloud in pc_out\\pointcloud_4_0.00_0.60.ply.\n",
      "Saved pointcloud in pc_out\\pointcloud_4_0.00_0.80.ply.\n",
      "Saved pointcloud in pc_out\\pointcloud_4_0.15_0.00.ply.\n",
      "Saved pointcloud in pc_out\\pointcloud_4_0.15_0.20.ply.\n",
      "Saved pointcloud in pc_out\\pointcloud_4_0.15_0.40.ply.\n",
      "Saved pointcloud in pc_out\\pointcloud_4_0.15_0.60.ply.\n",
      "Saved pointcloud in pc_out\\pointcloud_4_0.15_0.80.ply.\n",
      "Saved pointcloud in pc_out\\pointcloud_4_0.30_0.00.ply.\n",
      "Saved pointcloud in pc_out\\pointcloud_4_0.30_0.20.ply.\n",
      "Saved pointcloud in pc_out\\pointcloud_4_0.30_0.40.ply.\n",
      "Saved pointcloud in pc_out\\pointcloud_4_0.30_0.60.ply.\n",
      "Saved pointcloud in pc_out\\pointcloud_4_0.30_0.80.ply.\n",
      "Saved pointcloud in pc_out\\pointcloud_4_0.45_0.00.ply.\n",
      "Saved pointcloud in pc_out\\pointcloud_4_0.45_0.20.ply.\n",
      "Saved pointcloud in pc_out\\pointcloud_4_0.45_0.40.ply.\n",
      "Saved pointcloud in pc_out\\pointcloud_4_0.45_0.60.ply.\n",
      "Saved pointcloud in pc_out\\pointcloud_4_0.45_0.80.ply.\n",
      "Saved pointcloud in pc_out\\pointcloud_4_0.60_0.00.ply.\n",
      "Saved pointcloud in pc_out\\pointcloud_4_0.60_0.20.ply.\n",
      "Saved pointcloud in pc_out\\pointcloud_4_0.60_0.40.ply.\n",
      "Saved pointcloud in pc_out\\pointcloud_4_0.60_0.60.ply.\n",
      "Saved pointcloud in pc_out\\pointcloud_4_0.60_0.80.ply.\n",
      "Saved pointcloud in pc_out\\pointcloud_5_0.00_0.00.ply.\n",
      "Saved pointcloud in pc_out\\pointcloud_5_0.00_0.20.ply.\n",
      "Saved pointcloud in pc_out\\pointcloud_5_0.00_0.40.ply.\n",
      "Saved pointcloud in pc_out\\pointcloud_5_0.00_0.60.ply.\n",
      "Saved pointcloud in pc_out\\pointcloud_5_0.00_0.80.ply.\n",
      "Saved pointcloud in pc_out\\pointcloud_5_0.15_0.00.ply.\n",
      "Saved pointcloud in pc_out\\pointcloud_5_0.15_0.20.ply.\n",
      "Saved pointcloud in pc_out\\pointcloud_5_0.15_0.40.ply.\n",
      "Saved pointcloud in pc_out\\pointcloud_5_0.15_0.60.ply.\n",
      "Saved pointcloud in pc_out\\pointcloud_5_0.15_0.80.ply.\n",
      "Saved pointcloud in pc_out\\pointcloud_5_0.30_0.00.ply.\n",
      "Saved pointcloud in pc_out\\pointcloud_5_0.30_0.20.ply.\n",
      "Saved pointcloud in pc_out\\pointcloud_5_0.30_0.40.ply.\n",
      "Saved pointcloud in pc_out\\pointcloud_5_0.30_0.60.ply.\n",
      "Saved pointcloud in pc_out\\pointcloud_5_0.30_0.80.ply.\n",
      "Saved pointcloud in pc_out\\pointcloud_5_0.45_0.00.ply.\n",
      "Saved pointcloud in pc_out\\pointcloud_5_0.45_0.20.ply.\n",
      "Saved pointcloud in pc_out\\pointcloud_5_0.45_0.40.ply.\n",
      "Saved pointcloud in pc_out\\pointcloud_5_0.45_0.60.ply.\n",
      "Saved pointcloud in pc_out\\pointcloud_5_0.45_0.80.ply.\n",
      "Saved pointcloud in pc_out\\pointcloud_5_0.60_0.00.ply.\n",
      "Saved pointcloud in pc_out\\pointcloud_5_0.60_0.20.ply.\n",
      "Saved pointcloud in pc_out\\pointcloud_5_0.60_0.40.ply.\n",
      "Saved pointcloud in pc_out\\pointcloud_5_0.60_0.60.ply.\n",
      "Saved pointcloud in pc_out\\pointcloud_5_0.60_0.80.ply.\n",
      "Saved pointcloud in pc_out\\pointcloud_6_0.00_0.00.ply.\n",
      "Saved pointcloud in pc_out\\pointcloud_6_0.00_0.20.ply.\n",
      "Saved pointcloud in pc_out\\pointcloud_6_0.00_0.40.ply.\n",
      "Saved pointcloud in pc_out\\pointcloud_6_0.00_0.60.ply.\n",
      "Saved pointcloud in pc_out\\pointcloud_6_0.00_0.80.ply.\n",
      "Saved pointcloud in pc_out\\pointcloud_6_0.15_0.00.ply.\n",
      "Saved pointcloud in pc_out\\pointcloud_6_0.15_0.20.ply.\n",
      "Saved pointcloud in pc_out\\pointcloud_6_0.15_0.40.ply.\n",
      "Saved pointcloud in pc_out\\pointcloud_6_0.15_0.60.ply.\n",
      "Saved pointcloud in pc_out\\pointcloud_6_0.15_0.80.ply.\n",
      "Saved pointcloud in pc_out\\pointcloud_6_0.30_0.00.ply.\n",
      "Saved pointcloud in pc_out\\pointcloud_6_0.30_0.20.ply.\n",
      "Saved pointcloud in pc_out\\pointcloud_6_0.30_0.40.ply.\n",
      "Saved pointcloud in pc_out\\pointcloud_6_0.30_0.60.ply.\n",
      "Saved pointcloud in pc_out\\pointcloud_6_0.30_0.80.ply.\n",
      "Saved pointcloud in pc_out\\pointcloud_6_0.45_0.00.ply.\n",
      "Saved pointcloud in pc_out\\pointcloud_6_0.45_0.20.ply.\n",
      "Saved pointcloud in pc_out\\pointcloud_6_0.45_0.40.ply.\n",
      "Saved pointcloud in pc_out\\pointcloud_6_0.45_0.60.ply.\n",
      "Saved pointcloud in pc_out\\pointcloud_6_0.45_0.80.ply.\n",
      "Saved pointcloud in pc_out\\pointcloud_6_0.60_0.00.ply.\n",
      "Saved pointcloud in pc_out\\pointcloud_6_0.60_0.20.ply.\n",
      "Saved pointcloud in pc_out\\pointcloud_6_0.60_0.40.ply.\n",
      "Saved pointcloud in pc_out\\pointcloud_6_0.60_0.60.ply.\n",
      "Saved pointcloud in pc_out\\pointcloud_6_0.60_0.80.ply.\n",
      "Saved pointcloud in pc_out\\pointcloud_7_0.00_0.00.ply.\n",
      "Saved pointcloud in pc_out\\pointcloud_7_0.00_0.20.ply.\n",
      "Saved pointcloud in pc_out\\pointcloud_7_0.00_0.40.ply.\n",
      "Saved pointcloud in pc_out\\pointcloud_7_0.00_0.60.ply.\n",
      "Saved pointcloud in pc_out\\pointcloud_7_0.00_0.80.ply.\n",
      "Saved pointcloud in pc_out\\pointcloud_7_0.15_0.00.ply.\n",
      "Saved pointcloud in pc_out\\pointcloud_7_0.15_0.20.ply.\n",
      "Saved pointcloud in pc_out\\pointcloud_7_0.15_0.40.ply.\n",
      "Saved pointcloud in pc_out\\pointcloud_7_0.15_0.60.ply.\n",
      "Saved pointcloud in pc_out\\pointcloud_7_0.15_0.80.ply.\n",
      "Saved pointcloud in pc_out\\pointcloud_7_0.30_0.00.ply.\n",
      "Saved pointcloud in pc_out\\pointcloud_7_0.30_0.20.ply.\n",
      "Saved pointcloud in pc_out\\pointcloud_7_0.30_0.40.ply.\n",
      "Saved pointcloud in pc_out\\pointcloud_7_0.30_0.60.ply.\n",
      "Saved pointcloud in pc_out\\pointcloud_7_0.30_0.80.ply.\n",
      "Saved pointcloud in pc_out\\pointcloud_7_0.45_0.00.ply.\n",
      "Saved pointcloud in pc_out\\pointcloud_7_0.45_0.20.ply.\n",
      "Saved pointcloud in pc_out\\pointcloud_7_0.45_0.40.ply.\n",
      "Saved pointcloud in pc_out\\pointcloud_7_0.45_0.60.ply.\n",
      "Saved pointcloud in pc_out\\pointcloud_7_0.45_0.80.ply.\n",
      "Saved pointcloud in pc_out\\pointcloud_7_0.60_0.00.ply.\n",
      "Saved pointcloud in pc_out\\pointcloud_7_0.60_0.20.ply.\n",
      "Saved pointcloud in pc_out\\pointcloud_7_0.60_0.40.ply.\n",
      "Saved pointcloud in pc_out\\pointcloud_7_0.60_0.60.ply.\n",
      "Saved pointcloud in pc_out\\pointcloud_7_0.60_0.80.ply.\n"
     ]
    }
   ],
   "source": [
    "Augmentation.augment_folder('original_point_clouds','pc_out')"
   ]
  },
  {
   "cell_type": "code",
   "execution_count": 6,
   "metadata": {},
   "outputs": [
    {
     "name": "stdout",
     "output_type": "stream",
     "text": [
      "[PointCloud with 4421 points., PointCloud with 5305 points., PointCloud with 6189 points., PointCloud with 7073 points., PointCloud with 7957 points., PointCloud with 4421 points., PointCloud with 5305 points., PointCloud with 6189 points., PointCloud with 7073 points., PointCloud with 7957 points., PointCloud with 4421 points., PointCloud with 5305 points., PointCloud with 6189 points., PointCloud with 7073 points., PointCloud with 7957 points., PointCloud with 4421 points., PointCloud with 5305 points., PointCloud with 6189 points., PointCloud with 7073 points., PointCloud with 7957 points., PointCloud with 4421 points., PointCloud with 5305 points., PointCloud with 6189 points., PointCloud with 7073 points., PointCloud with 7957 points., PointCloud with 5660 points., PointCloud with 6792 points., PointCloud with 7924 points., PointCloud with 9056 points., PointCloud with 10188 points., PointCloud with 5660 points., PointCloud with 6792 points., PointCloud with 7924 points., PointCloud with 9056 points., PointCloud with 10188 points., PointCloud with 5660 points., PointCloud with 6792 points., PointCloud with 7924 points., PointCloud with 9056 points., PointCloud with 10188 points., PointCloud with 5660 points., PointCloud with 6792 points., PointCloud with 7924 points., PointCloud with 9056 points., PointCloud with 10188 points., PointCloud with 5660 points., PointCloud with 6792 points., PointCloud with 7924 points., PointCloud with 9056 points., PointCloud with 10188 points., PointCloud with 6002 points., PointCloud with 7202 points., PointCloud with 8402 points., PointCloud with 9603 points., PointCloud with 10803 points., PointCloud with 6002 points., PointCloud with 7202 points., PointCloud with 8402 points., PointCloud with 9603 points., PointCloud with 10803 points., PointCloud with 6002 points., PointCloud with 7202 points., PointCloud with 8402 points., PointCloud with 9603 points., PointCloud with 10803 points., PointCloud with 6002 points., PointCloud with 7202 points., PointCloud with 8402 points., PointCloud with 9603 points., PointCloud with 10803 points., PointCloud with 6002 points., PointCloud with 7202 points., PointCloud with 8402 points., PointCloud with 9603 points., PointCloud with 10803 points., PointCloud with 5362 points., PointCloud with 6434 points., PointCloud with 7506 points., PointCloud with 8579 points., PointCloud with 9651 points., PointCloud with 5362 points., PointCloud with 6434 points., PointCloud with 7506 points., PointCloud with 8579 points., PointCloud with 9651 points., PointCloud with 5362 points., PointCloud with 6434 points., PointCloud with 7506 points., PointCloud with 8579 points., PointCloud with 9651 points., PointCloud with 5362 points., PointCloud with 6434 points., PointCloud with 7506 points., PointCloud with 8579 points., PointCloud with 9651 points., PointCloud with 5362 points., PointCloud with 6434 points., PointCloud with 7506 points., PointCloud with 8579 points., PointCloud with 9651 points., PointCloud with 3437 points., PointCloud with 4124 points., PointCloud with 4811 points., PointCloud with 5499 points., PointCloud with 6186 points., PointCloud with 3437 points., PointCloud with 4124 points., PointCloud with 4811 points., PointCloud with 5499 points., PointCloud with 6186 points., PointCloud with 3437 points., PointCloud with 4124 points., PointCloud with 4811 points., PointCloud with 5499 points., PointCloud with 6186 points., PointCloud with 3437 points., PointCloud with 4124 points., PointCloud with 4811 points., PointCloud with 5499 points., PointCloud with 6186 points., PointCloud with 3437 points., PointCloud with 4124 points., PointCloud with 4811 points., PointCloud with 5499 points., PointCloud with 6186 points., PointCloud with 2639 points., PointCloud with 3166 points., PointCloud with 3694 points., PointCloud with 4222 points., PointCloud with 4750 points., PointCloud with 2639 points., PointCloud with 3166 points., PointCloud with 3694 points., PointCloud with 4222 points., PointCloud with 4750 points., PointCloud with 2639 points., PointCloud with 3166 points., PointCloud with 3694 points., PointCloud with 4222 points., PointCloud with 4750 points., PointCloud with 2639 points., PointCloud with 3166 points., PointCloud with 3694 points., PointCloud with 4222 points., PointCloud with 4750 points., PointCloud with 2639 points., PointCloud with 3166 points., PointCloud with 3694 points., PointCloud with 4222 points., PointCloud with 4750 points., PointCloud with 2854 points., PointCloud with 3424 points., PointCloud with 3995 points., PointCloud with 4566 points., PointCloud with 5137 points., PointCloud with 2854 points., PointCloud with 3424 points., PointCloud with 3995 points., PointCloud with 4566 points., PointCloud with 5137 points., PointCloud with 2854 points., PointCloud with 3424 points., PointCloud with 3995 points., PointCloud with 4566 points., PointCloud with 5137 points., PointCloud with 2854 points., PointCloud with 3424 points., PointCloud with 3995 points., PointCloud with 4566 points., PointCloud with 5137 points., PointCloud with 2854 points., PointCloud with 3424 points., PointCloud with 3995 points., PointCloud with 4566 points., PointCloud with 5137 points., PointCloud with 2188 points., PointCloud with 2625 points., PointCloud with 3063 points., PointCloud with 3500 points., PointCloud with 3938 points., PointCloud with 2188 points., PointCloud with 2625 points., PointCloud with 3063 points., PointCloud with 3500 points., PointCloud with 3938 points., PointCloud with 2188 points., PointCloud with 2625 points., PointCloud with 3063 points., PointCloud with 3500 points., PointCloud with 3938 points., PointCloud with 2188 points., PointCloud with 2625 points., PointCloud with 3063 points., PointCloud with 3500 points., PointCloud with 3938 points., PointCloud with 2188 points., PointCloud with 2625 points., PointCloud with 3063 points., PointCloud with 3500 points., PointCloud with 3938 points.]\n"
     ]
    }
   ],
   "source": [
    "lijst = Augmentation.load_folder('pc_out')\n",
    "print(lijst)"
   ]
  },
  {
   "cell_type": "code",
   "execution_count": 7,
   "metadata": {},
   "outputs": [
    {
     "data": {
      "text/plain": [
       "(4421, 3)"
      ]
     },
     "execution_count": 7,
     "metadata": {},
     "output_type": "execute_result"
    }
   ],
   "source": [
    "t = lijst[0]\n",
    "pc = np.asarray(t.points)\n",
    "pc.shape"
   ]
  },
  {
   "cell_type": "code",
   "execution_count": 19,
   "metadata": {},
   "outputs": [
    {
     "name": "stdout",
     "output_type": "stream",
     "text": [
      "\u001b[1;31mSignature:\u001b[0m\n",
      "\u001b[0mo3d\u001b[0m\u001b[1;33m.\u001b[0m\u001b[0mvisualization\u001b[0m\u001b[1;33m.\u001b[0m\u001b[0mdraw\u001b[0m\u001b[1;33m(\u001b[0m\u001b[1;33m\n",
      "\u001b[0m    \u001b[0mgeometry\u001b[0m\u001b[1;33m=\u001b[0m\u001b[1;32mNone\u001b[0m\u001b[1;33m,\u001b[0m\u001b[1;33m\n",
      "\u001b[0m    \u001b[0mtitle\u001b[0m\u001b[1;33m=\u001b[0m\u001b[1;34m'Open3D'\u001b[0m\u001b[1;33m,\u001b[0m\u001b[1;33m\n",
      "\u001b[0m    \u001b[0mwidth\u001b[0m\u001b[1;33m=\u001b[0m\u001b[1;36m1024\u001b[0m\u001b[1;33m,\u001b[0m\u001b[1;33m\n",
      "\u001b[0m    \u001b[0mheight\u001b[0m\u001b[1;33m=\u001b[0m\u001b[1;36m768\u001b[0m\u001b[1;33m,\u001b[0m\u001b[1;33m\n",
      "\u001b[0m    \u001b[0mactions\u001b[0m\u001b[1;33m=\u001b[0m\u001b[1;32mNone\u001b[0m\u001b[1;33m,\u001b[0m\u001b[1;33m\n",
      "\u001b[0m    \u001b[0mlookat\u001b[0m\u001b[1;33m=\u001b[0m\u001b[1;32mNone\u001b[0m\u001b[1;33m,\u001b[0m\u001b[1;33m\n",
      "\u001b[0m    \u001b[0meye\u001b[0m\u001b[1;33m=\u001b[0m\u001b[1;32mNone\u001b[0m\u001b[1;33m,\u001b[0m\u001b[1;33m\n",
      "\u001b[0m    \u001b[0mup\u001b[0m\u001b[1;33m=\u001b[0m\u001b[1;32mNone\u001b[0m\u001b[1;33m,\u001b[0m\u001b[1;33m\n",
      "\u001b[0m    \u001b[0mfield_of_view\u001b[0m\u001b[1;33m=\u001b[0m\u001b[1;36m60.0\u001b[0m\u001b[1;33m,\u001b[0m\u001b[1;33m\n",
      "\u001b[0m    \u001b[0mbg_color\u001b[0m\u001b[1;33m=\u001b[0m\u001b[1;33m(\u001b[0m\u001b[1;36m1.0\u001b[0m\u001b[1;33m,\u001b[0m \u001b[1;36m1.0\u001b[0m\u001b[1;33m,\u001b[0m \u001b[1;36m1.0\u001b[0m\u001b[1;33m,\u001b[0m \u001b[1;36m1.0\u001b[0m\u001b[1;33m)\u001b[0m\u001b[1;33m,\u001b[0m\u001b[1;33m\n",
      "\u001b[0m    \u001b[0mbg_image\u001b[0m\u001b[1;33m=\u001b[0m\u001b[1;32mNone\u001b[0m\u001b[1;33m,\u001b[0m\u001b[1;33m\n",
      "\u001b[0m    \u001b[0mibl\u001b[0m\u001b[1;33m=\u001b[0m\u001b[1;32mNone\u001b[0m\u001b[1;33m,\u001b[0m\u001b[1;33m\n",
      "\u001b[0m    \u001b[0mibl_intensity\u001b[0m\u001b[1;33m=\u001b[0m\u001b[1;32mNone\u001b[0m\u001b[1;33m,\u001b[0m\u001b[1;33m\n",
      "\u001b[0m    \u001b[0mshow_skybox\u001b[0m\u001b[1;33m=\u001b[0m\u001b[1;32mNone\u001b[0m\u001b[1;33m,\u001b[0m\u001b[1;33m\n",
      "\u001b[0m    \u001b[0mshow_ui\u001b[0m\u001b[1;33m=\u001b[0m\u001b[1;32mNone\u001b[0m\u001b[1;33m,\u001b[0m\u001b[1;33m\n",
      "\u001b[0m    \u001b[0mpoint_size\u001b[0m\u001b[1;33m=\u001b[0m\u001b[1;32mNone\u001b[0m\u001b[1;33m,\u001b[0m\u001b[1;33m\n",
      "\u001b[0m    \u001b[0mline_width\u001b[0m\u001b[1;33m=\u001b[0m\u001b[1;32mNone\u001b[0m\u001b[1;33m,\u001b[0m\u001b[1;33m\n",
      "\u001b[0m    \u001b[0manimation_time_step\u001b[0m\u001b[1;33m=\u001b[0m\u001b[1;36m1.0\u001b[0m\u001b[1;33m,\u001b[0m\u001b[1;33m\n",
      "\u001b[0m    \u001b[0manimation_duration\u001b[0m\u001b[1;33m=\u001b[0m\u001b[1;32mNone\u001b[0m\u001b[1;33m,\u001b[0m\u001b[1;33m\n",
      "\u001b[0m    \u001b[0mrpc_interface\u001b[0m\u001b[1;33m=\u001b[0m\u001b[1;32mFalse\u001b[0m\u001b[1;33m,\u001b[0m\u001b[1;33m\n",
      "\u001b[0m    \u001b[0mon_init\u001b[0m\u001b[1;33m=\u001b[0m\u001b[1;32mNone\u001b[0m\u001b[1;33m,\u001b[0m\u001b[1;33m\n",
      "\u001b[0m    \u001b[0mon_animation_frame\u001b[0m\u001b[1;33m=\u001b[0m\u001b[1;32mNone\u001b[0m\u001b[1;33m,\u001b[0m\u001b[1;33m\n",
      "\u001b[0m    \u001b[0mon_animation_tick\u001b[0m\u001b[1;33m=\u001b[0m\u001b[1;32mNone\u001b[0m\u001b[1;33m,\u001b[0m\u001b[1;33m\n",
      "\u001b[0m    \u001b[0mnon_blocking_and_return_uid\u001b[0m\u001b[1;33m=\u001b[0m\u001b[1;32mFalse\u001b[0m\u001b[1;33m,\u001b[0m\u001b[1;33m\n",
      "\u001b[0m\u001b[1;33m)\u001b[0m\u001b[1;33m\u001b[0m\u001b[1;33m\u001b[0m\u001b[0m\n",
      "\u001b[1;31mDocstring:\u001b[0m <no docstring>\n",
      "\u001b[1;31mFile:\u001b[0m      d:\\anaconda\\anaconda3\\envs\\smartscan\\lib\\site-packages\\open3d\\visualization\\draw.py\n",
      "\u001b[1;31mType:\u001b[0m      function\n"
     ]
    }
   ],
   "source": [
    "o3d.visualization.draw?"
   ]
  },
  {
   "cell_type": "code",
   "execution_count": 18,
   "metadata": {},
   "outputs": [
    {
     "name": "stdout",
     "output_type": "stream",
     "text": [
      "[Open3D INFO] Window window_4 created.\n"
     ]
    },
    {
     "ename": "KeyboardInterrupt",
     "evalue": "",
     "output_type": "error",
     "traceback": [
      "\u001b[1;31m---------------------------------------------------------------------------\u001b[0m",
      "\u001b[1;31mKeyboardInterrupt\u001b[0m                         Traceback (most recent call last)",
      "\u001b[1;32mC:\\Users\\SANDER~1\\AppData\\Local\\Temp/ipykernel_10516/2493613174.py\u001b[0m in \u001b[0;36m<module>\u001b[1;34m\u001b[0m\n\u001b[1;32m----> 1\u001b[1;33m \u001b[0mo3d\u001b[0m\u001b[1;33m.\u001b[0m\u001b[0mvisualization\u001b[0m\u001b[1;33m.\u001b[0m\u001b[0mdraw\u001b[0m\u001b[1;33m(\u001b[0m\u001b[0mt\u001b[0m\u001b[1;33m,\u001b[0m\u001b[1;34m\"Teken eens wat, kut!\"\u001b[0m\u001b[1;33m)\u001b[0m\u001b[1;33m\u001b[0m\u001b[1;33m\u001b[0m\u001b[0m\n\u001b[0m",
      "\u001b[1;32mD:\\Anaconda\\Anaconda3\\envs\\smartscan\\lib\\site-packages\\open3d\\visualization\\draw.py\u001b[0m in \u001b[0;36mdraw\u001b[1;34m(geometry, title, width, height, actions, lookat, eye, up, field_of_view, bg_color, bg_image, ibl, ibl_intensity, show_skybox, show_ui, point_size, line_width, animation_time_step, animation_duration, rpc_interface, on_init, on_animation_frame, on_animation_tick, non_blocking_and_return_uid)\u001b[0m\n\u001b[0;32m    121\u001b[0m         \u001b[1;32mreturn\u001b[0m \u001b[0mw\u001b[0m\u001b[1;33m.\u001b[0m\u001b[0muid\u001b[0m\u001b[1;33m\u001b[0m\u001b[1;33m\u001b[0m\u001b[0m\n\u001b[0;32m    122\u001b[0m     \u001b[1;32melse\u001b[0m\u001b[1;33m:\u001b[0m\u001b[1;33m\u001b[0m\u001b[1;33m\u001b[0m\u001b[0m\n\u001b[1;32m--> 123\u001b[1;33m         \u001b[0mgui\u001b[0m\u001b[1;33m.\u001b[0m\u001b[0mApplication\u001b[0m\u001b[1;33m.\u001b[0m\u001b[0minstance\u001b[0m\u001b[1;33m.\u001b[0m\u001b[0mrun\u001b[0m\u001b[1;33m(\u001b[0m\u001b[1;33m)\u001b[0m\u001b[1;33m\u001b[0m\u001b[1;33m\u001b[0m\u001b[0m\n\u001b[0m",
      "\u001b[1;31mKeyboardInterrupt\u001b[0m: "
     ]
    }
   ],
   "source": [
    "o3d.visualization.draw(t,\"Teken eens wat, kut!\")"
   ]
  }
 ],
 "metadata": {
  "colab": {
   "collapsed_sections": [
    "WWP0sQ4ntO87",
    "tOiVmN5rtO9E",
    "yYBKgR1MtO9K",
    "antArO3xtO9U",
    "ZkO5kHd6tO9i",
    "w2y9CF4AtO9m",
    "a8MFLzWPtO9p"
   ],
   "name": "MiniProject_Learning_Store_Recommender.ipynb",
   "provenance": [
    {
     "file_id": "1i-i1EOS7uBZClPe8zoBGjeE-6yeNrz-H",
     "timestamp": 1593176441166
    }
   ]
  },
  "kernelspec": {
   "display_name": "Python 3",
   "language": "python",
   "name": "python3"
  },
  "language_info": {
   "codemirror_mode": {
    "name": "ipython",
    "version": 3
   },
   "file_extension": ".py",
   "mimetype": "text/x-python",
   "name": "python",
   "nbconvert_exporter": "python",
   "pygments_lexer": "ipython3",
   "version": "3.9.7"
  }
 },
 "nbformat": 4,
 "nbformat_minor": 1
}
