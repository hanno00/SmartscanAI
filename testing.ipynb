{
 "cells": [
  {
   "cell_type": "markdown",
   "metadata": {
    "id": "RIxk8XI6uL6f"
   },
   "source": [
    "# Testing"
   ]
  },
  {
   "cell_type": "code",
   "execution_count": 2,
   "metadata": {
    "id": "i2ynUkhmtO8b"
   },
   "outputs": [
    {
     "name": "stdout",
     "output_type": "stream",
     "text": [
      "Jupyter environment detected. Enabling Open3D WebVisualizer.\n",
      "[Open3D INFO] WebRTC GUI backend enabled.\n",
      "[Open3D INFO] WebRTCWindowSystem: HTTP handshake server disabled.\n"
     ]
    }
   ],
   "source": [
    "import numpy as np\n",
    "import os\n",
    "\n",
    "import open3d as o3d"
   ]
  },
  {
   "cell_type": "code",
   "execution_count": 6,
   "metadata": {},
   "outputs": [
    {
     "name": "stdout",
     "output_type": "stream",
     "text": [
      "hoek: 0.7116057497599012 (40.77200613848494°)\n"
     ]
    }
   ],
   "source": [
    "vector_1 = [0, 0.2555, 0.33]\n",
    "vector_2 = [0.1, 0, 0.3331]\n",
    "\n",
    "unit_vector_1 = vector_1 / np.linalg.norm(vector_1)\n",
    "unit_vector_2 = vector_2 / np.linalg.norm(vector_2)\n",
    "dot_product = np.dot(unit_vector_1, unit_vector_2)\n",
    "angle = np.arccos(dot_product)\n",
    "\n",
    "print(\"hoek: {} ({}°)\".format(angle,angle*180/np.pi))"
   ]
  },
  {
   "cell_type": "code",
   "execution_count": null,
   "metadata": {},
   "outputs": [],
   "source": [
    "pcd = o3d.io.read_point_cloud(\"../../test_data/fragment.ply\")\n",
    "print(pcd)\n",
    "print(np.asarray(pcd.points))\n",
    "o3d.visualization.draw_geometries([pcd],\n",
    "                                  zoom=0.3412,\n",
    "                                  front=[0.4257, -0.2125, -0.8795],\n",
    "                                  lookat=[2.6172, 2.0475, 1.532],\n",
    "                                  up=[-0.0694, -0.9768, 0.2024])"
   ]
  },
  {
   "cell_type": "code",
   "execution_count": 4,
   "metadata": {},
   "outputs": [],
   "source": [
    "class augmentation:\n",
    "    @staticmethod\n",
    "    def load_folder(folder):\n",
    "        lijst = []\n",
    "        for file in os.listdir(folder):\n",
    "            path = os.path.join(folder,file)\n",
    "            if file.endswith('.ply'):\n",
    "                pcd = o3d.io.read_point_cloud(path)\n",
    "                lijst.append(pcd)\n",
    "        return lijst\n",
    "    \n",
    "    def __init__(self):\n",
    "        pass\n",
    "    \n",
    "    def whatever_function(self, arg1, arg2):\n",
    "        pass\n",
    "\n",
    "    def __internal_function(self):\n",
    "        pass"
   ]
  },
  {
   "cell_type": "code",
   "execution_count": 6,
   "metadata": {},
   "outputs": [],
   "source": [
    "lijst = augmentation.load_folder('ML4')"
   ]
  },
  {
   "cell_type": "code",
   "execution_count": null,
   "metadata": {},
   "outputs": [],
   "source": [
    "folder = ''\n",
    "for file in os.listdir(folder):\n",
    "    for movement in range(0,70,10):\n",
    "        for toevoegen in range(0,1,0.2):\n",
    "            #read_file_from(os.path.join(folder,file))\n",
    "            # augment stuff here\n",
    "            # opslaan\n",
    "            pass"
   ]
  },
  {
   "cell_type": "code",
   "execution_count": 12,
   "metadata": {},
   "outputs": [
    {
     "name": "stdout",
     "output_type": "stream",
     "text": [
      "pointcloud_1_0.02_0.50\n"
     ]
    }
   ],
   "source": [
    "i = 1\n",
    "j = 0.015646564564654\n",
    "k = 0.499999999\n",
    "\n",
    "name = \"pointcloud_{}_{:.2f}_{:.2f}\".format(i,j,k)\n",
    "print(name)"
   ]
  }
 ],
 "metadata": {
  "colab": {
   "collapsed_sections": [
    "WWP0sQ4ntO87",
    "tOiVmN5rtO9E",
    "yYBKgR1MtO9K",
    "antArO3xtO9U",
    "ZkO5kHd6tO9i",
    "w2y9CF4AtO9m",
    "a8MFLzWPtO9p"
   ],
   "name": "MiniProject_Learning_Store_Recommender.ipynb",
   "provenance": [
    {
     "file_id": "1i-i1EOS7uBZClPe8zoBGjeE-6yeNrz-H",
     "timestamp": 1593176441166
    }
   ]
  },
  "kernelspec": {
   "display_name": "Python 3",
   "language": "python",
   "name": "python3"
  },
  "language_info": {
   "codemirror_mode": {
    "name": "ipython",
    "version": 3
   },
   "file_extension": ".py",
   "mimetype": "text/x-python",
   "name": "python",
   "nbconvert_exporter": "python",
   "pygments_lexer": "ipython3",
   "version": "3.9.7"
  }
 },
 "nbformat": 4,
 "nbformat_minor": 1
}
