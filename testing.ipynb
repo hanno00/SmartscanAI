{
 "cells": [
  {
   "cell_type": "markdown",
   "metadata": {
    "id": "RIxk8XI6uL6f"
   },
   "source": [
    "# Testing"
   ]
  },
  {
   "cell_type": "code",
   "execution_count": 19,
   "metadata": {
    "id": "i2ynUkhmtO8b"
   },
   "outputs": [
    {
     "name": "stdout",
     "output_type": "stream",
     "text": [
      "Jupyter environment detected. Enabling Open3D WebVisualizer.\n",
      "[Open3D INFO] WebRTC GUI backend enabled.\n",
      "[Open3D INFO] WebRTCWindowSystem: HTTP handshake server disabled.\n"
     ]
    }
   ],
   "source": [
    "import numpy as np\n",
    "import os\n",
    "import pandas as pd\n",
    "import open3d as o3d\n",
    "import tensorflow as tf\n",
    "from augmentation import augmentation"
   ]
  },
  {
   "cell_type": "code",
   "execution_count": 6,
   "metadata": {},
   "outputs": [
    {
     "name": "stdout",
     "output_type": "stream",
     "text": [
      "hoek: 0.7116057497599012 (40.77200613848494°)\n"
     ]
    }
   ],
   "source": [
    "vector_1 = [0, 0.2555, 0.33]\n",
    "vector_2 = [0.1, 0, 0.3331]\n",
    "\n",
    "unit_vector_1 = vector_1 / np.linalg.norm(vector_1)\n",
    "unit_vector_2 = vector_2 / np.linalg.norm(vector_2)\n",
    "dot_product = np.dot(unit_vector_1, unit_vector_2)\n",
    "angle = np.arccos(dot_product)\n",
    "\n",
    "print(\"hoek: {} ({}°)\".format(angle,angle*180/np.pi))"
   ]
  },
  {
   "cell_type": "code",
   "execution_count": null,
   "metadata": {},
   "outputs": [],
   "source": [
    "pcd = o3d.io.read_point_cloud(\"../../test_data/fragment.ply\")\n",
    "print(pcd)\n",
    "print(np.asarray(pcd.points))\n",
    "o3d.visualization.draw_geometries([pcd],\n",
    "                                  zoom=0.3412,\n",
    "                                  front=[0.4257, -0.2125, -0.8795],\n",
    "                                  lookat=[2.6172, 2.0475, 1.532],\n",
    "                                  up=[-0.0694, -0.9768, 0.2024])"
   ]
  },
  {
   "cell_type": "code",
   "execution_count": 22,
   "metadata": {},
   "outputs": [
    {
     "name": "stdout",
     "output_type": "stream",
     "text": [
      "Saved pointcloud in pc_out\\pointcloud_0_0.00_0.00.ply.\n",
      "Saved pointcloud in pc_out\\pointcloud_0_0.00_0.20.ply.\n",
      "Saved pointcloud in pc_out\\pointcloud_0_0.00_0.40.ply.\n",
      "Saved pointcloud in pc_out\\pointcloud_0_0.00_0.60.ply.\n",
      "Saved pointcloud in pc_out\\pointcloud_0_0.00_0.80.ply.\n",
      "Saved pointcloud in pc_out\\pointcloud_0_0.15_0.00.ply.\n",
      "Saved pointcloud in pc_out\\pointcloud_0_0.15_0.20.ply.\n",
      "Saved pointcloud in pc_out\\pointcloud_0_0.15_0.40.ply.\n",
      "Saved pointcloud in pc_out\\pointcloud_0_0.15_0.60.ply.\n",
      "Saved pointcloud in pc_out\\pointcloud_0_0.15_0.80.ply.\n",
      "Saved pointcloud in pc_out\\pointcloud_0_0.30_0.00.ply.\n",
      "Saved pointcloud in pc_out\\pointcloud_0_0.30_0.20.ply.\n",
      "Saved pointcloud in pc_out\\pointcloud_0_0.30_0.40.ply.\n",
      "Saved pointcloud in pc_out\\pointcloud_0_0.30_0.60.ply.\n",
      "Saved pointcloud in pc_out\\pointcloud_0_0.30_0.80.ply.\n",
      "Saved pointcloud in pc_out\\pointcloud_0_0.45_0.00.ply.\n",
      "Saved pointcloud in pc_out\\pointcloud_0_0.45_0.20.ply.\n",
      "Saved pointcloud in pc_out\\pointcloud_0_0.45_0.40.ply.\n",
      "Saved pointcloud in pc_out\\pointcloud_0_0.45_0.60.ply.\n",
      "Saved pointcloud in pc_out\\pointcloud_0_0.45_0.80.ply.\n",
      "Saved pointcloud in pc_out\\pointcloud_0_0.60_0.00.ply.\n",
      "Saved pointcloud in pc_out\\pointcloud_0_0.60_0.20.ply.\n",
      "Saved pointcloud in pc_out\\pointcloud_0_0.60_0.40.ply.\n",
      "Saved pointcloud in pc_out\\pointcloud_0_0.60_0.60.ply.\n",
      "Saved pointcloud in pc_out\\pointcloud_0_0.60_0.80.ply.\n",
      "Saved pointcloud in pc_out\\pointcloud_1_0.00_0.00.ply.\n",
      "Saved pointcloud in pc_out\\pointcloud_1_0.00_0.20.ply.\n",
      "Saved pointcloud in pc_out\\pointcloud_1_0.00_0.40.ply.\n",
      "Saved pointcloud in pc_out\\pointcloud_1_0.00_0.60.ply.\n",
      "Saved pointcloud in pc_out\\pointcloud_1_0.00_0.80.ply.\n",
      "Saved pointcloud in pc_out\\pointcloud_1_0.15_0.00.ply.\n",
      "Saved pointcloud in pc_out\\pointcloud_1_0.15_0.20.ply.\n",
      "Saved pointcloud in pc_out\\pointcloud_1_0.15_0.40.ply.\n",
      "Saved pointcloud in pc_out\\pointcloud_1_0.15_0.60.ply.\n",
      "Saved pointcloud in pc_out\\pointcloud_1_0.15_0.80.ply.\n",
      "Saved pointcloud in pc_out\\pointcloud_1_0.30_0.00.ply.\n",
      "Saved pointcloud in pc_out\\pointcloud_1_0.30_0.20.ply.\n",
      "Saved pointcloud in pc_out\\pointcloud_1_0.30_0.40.ply.\n",
      "Saved pointcloud in pc_out\\pointcloud_1_0.30_0.60.ply.\n",
      "Saved pointcloud in pc_out\\pointcloud_1_0.30_0.80.ply.\n",
      "Saved pointcloud in pc_out\\pointcloud_1_0.45_0.00.ply.\n",
      "Saved pointcloud in pc_out\\pointcloud_1_0.45_0.20.ply.\n",
      "Saved pointcloud in pc_out\\pointcloud_1_0.45_0.40.ply.\n",
      "Saved pointcloud in pc_out\\pointcloud_1_0.45_0.60.ply.\n",
      "Saved pointcloud in pc_out\\pointcloud_1_0.45_0.80.ply.\n",
      "Saved pointcloud in pc_out\\pointcloud_1_0.60_0.00.ply.\n",
      "Saved pointcloud in pc_out\\pointcloud_1_0.60_0.20.ply.\n",
      "Saved pointcloud in pc_out\\pointcloud_1_0.60_0.40.ply.\n",
      "Saved pointcloud in pc_out\\pointcloud_1_0.60_0.60.ply.\n",
      "Saved pointcloud in pc_out\\pointcloud_1_0.60_0.80.ply.\n",
      "Saved pointcloud in pc_out\\pointcloud_2_0.00_0.00.ply.\n",
      "Saved pointcloud in pc_out\\pointcloud_2_0.00_0.20.ply.\n",
      "Saved pointcloud in pc_out\\pointcloud_2_0.00_0.40.ply.\n",
      "Saved pointcloud in pc_out\\pointcloud_2_0.00_0.60.ply.\n",
      "Saved pointcloud in pc_out\\pointcloud_2_0.00_0.80.ply.\n",
      "Saved pointcloud in pc_out\\pointcloud_2_0.15_0.00.ply.\n",
      "Saved pointcloud in pc_out\\pointcloud_2_0.15_0.20.ply.\n",
      "Saved pointcloud in pc_out\\pointcloud_2_0.15_0.40.ply.\n",
      "Saved pointcloud in pc_out\\pointcloud_2_0.15_0.60.ply.\n",
      "Saved pointcloud in pc_out\\pointcloud_2_0.15_0.80.ply.\n",
      "Saved pointcloud in pc_out\\pointcloud_2_0.30_0.00.ply.\n",
      "Saved pointcloud in pc_out\\pointcloud_2_0.30_0.20.ply.\n",
      "Saved pointcloud in pc_out\\pointcloud_2_0.30_0.40.ply.\n",
      "Saved pointcloud in pc_out\\pointcloud_2_0.30_0.60.ply.\n",
      "Saved pointcloud in pc_out\\pointcloud_2_0.30_0.80.ply.\n",
      "Saved pointcloud in pc_out\\pointcloud_2_0.45_0.00.ply.\n",
      "Saved pointcloud in pc_out\\pointcloud_2_0.45_0.20.ply.\n",
      "Saved pointcloud in pc_out\\pointcloud_2_0.45_0.40.ply.\n",
      "Saved pointcloud in pc_out\\pointcloud_2_0.45_0.60.ply.\n",
      "Saved pointcloud in pc_out\\pointcloud_2_0.45_0.80.ply.\n",
      "Saved pointcloud in pc_out\\pointcloud_2_0.60_0.00.ply.\n",
      "Saved pointcloud in pc_out\\pointcloud_2_0.60_0.20.ply.\n",
      "Saved pointcloud in pc_out\\pointcloud_2_0.60_0.40.ply.\n",
      "Saved pointcloud in pc_out\\pointcloud_2_0.60_0.60.ply.\n",
      "Saved pointcloud in pc_out\\pointcloud_2_0.60_0.80.ply.\n",
      "Saved pointcloud in pc_out\\pointcloud_3_0.00_0.00.ply.\n",
      "Saved pointcloud in pc_out\\pointcloud_3_0.00_0.20.ply.\n",
      "Saved pointcloud in pc_out\\pointcloud_3_0.00_0.40.ply.\n",
      "Saved pointcloud in pc_out\\pointcloud_3_0.00_0.60.ply.\n",
      "Saved pointcloud in pc_out\\pointcloud_3_0.00_0.80.ply.\n",
      "Saved pointcloud in pc_out\\pointcloud_3_0.15_0.00.ply.\n",
      "Saved pointcloud in pc_out\\pointcloud_3_0.15_0.20.ply.\n",
      "Saved pointcloud in pc_out\\pointcloud_3_0.15_0.40.ply.\n",
      "Saved pointcloud in pc_out\\pointcloud_3_0.15_0.60.ply.\n",
      "Saved pointcloud in pc_out\\pointcloud_3_0.15_0.80.ply.\n",
      "Saved pointcloud in pc_out\\pointcloud_3_0.30_0.00.ply.\n",
      "Saved pointcloud in pc_out\\pointcloud_3_0.30_0.20.ply.\n",
      "Saved pointcloud in pc_out\\pointcloud_3_0.30_0.40.ply.\n",
      "Saved pointcloud in pc_out\\pointcloud_3_0.30_0.60.ply.\n",
      "Saved pointcloud in pc_out\\pointcloud_3_0.30_0.80.ply.\n",
      "Saved pointcloud in pc_out\\pointcloud_3_0.45_0.00.ply.\n",
      "Saved pointcloud in pc_out\\pointcloud_3_0.45_0.20.ply.\n",
      "Saved pointcloud in pc_out\\pointcloud_3_0.45_0.40.ply.\n",
      "Saved pointcloud in pc_out\\pointcloud_3_0.45_0.60.ply.\n",
      "Saved pointcloud in pc_out\\pointcloud_3_0.45_0.80.ply.\n",
      "Saved pointcloud in pc_out\\pointcloud_3_0.60_0.00.ply.\n",
      "Saved pointcloud in pc_out\\pointcloud_3_0.60_0.20.ply.\n",
      "Saved pointcloud in pc_out\\pointcloud_3_0.60_0.40.ply.\n",
      "Saved pointcloud in pc_out\\pointcloud_3_0.60_0.60.ply.\n",
      "Saved pointcloud in pc_out\\pointcloud_3_0.60_0.80.ply.\n",
      "Saved pointcloud in pc_out\\pointcloud_4_0.00_0.00.ply.\n",
      "Saved pointcloud in pc_out\\pointcloud_4_0.00_0.20.ply.\n",
      "Saved pointcloud in pc_out\\pointcloud_4_0.00_0.40.ply.\n",
      "Saved pointcloud in pc_out\\pointcloud_4_0.00_0.60.ply.\n",
      "Saved pointcloud in pc_out\\pointcloud_4_0.00_0.80.ply.\n",
      "Saved pointcloud in pc_out\\pointcloud_4_0.15_0.00.ply.\n",
      "Saved pointcloud in pc_out\\pointcloud_4_0.15_0.20.ply.\n",
      "Saved pointcloud in pc_out\\pointcloud_4_0.15_0.40.ply.\n",
      "Saved pointcloud in pc_out\\pointcloud_4_0.15_0.60.ply.\n",
      "Saved pointcloud in pc_out\\pointcloud_4_0.15_0.80.ply.\n",
      "Saved pointcloud in pc_out\\pointcloud_4_0.30_0.00.ply.\n",
      "Saved pointcloud in pc_out\\pointcloud_4_0.30_0.20.ply.\n",
      "Saved pointcloud in pc_out\\pointcloud_4_0.30_0.40.ply.\n",
      "Saved pointcloud in pc_out\\pointcloud_4_0.30_0.60.ply.\n",
      "Saved pointcloud in pc_out\\pointcloud_4_0.30_0.80.ply.\n",
      "Saved pointcloud in pc_out\\pointcloud_4_0.45_0.00.ply.\n",
      "Saved pointcloud in pc_out\\pointcloud_4_0.45_0.20.ply.\n",
      "Saved pointcloud in pc_out\\pointcloud_4_0.45_0.40.ply.\n",
      "Saved pointcloud in pc_out\\pointcloud_4_0.45_0.60.ply.\n",
      "Saved pointcloud in pc_out\\pointcloud_4_0.45_0.80.ply.\n",
      "Saved pointcloud in pc_out\\pointcloud_4_0.60_0.00.ply.\n",
      "Saved pointcloud in pc_out\\pointcloud_4_0.60_0.20.ply.\n",
      "Saved pointcloud in pc_out\\pointcloud_4_0.60_0.40.ply.\n",
      "Saved pointcloud in pc_out\\pointcloud_4_0.60_0.60.ply.\n",
      "Saved pointcloud in pc_out\\pointcloud_4_0.60_0.80.ply.\n",
      "Saved pointcloud in pc_out\\pointcloud_5_0.00_0.00.ply.\n",
      "Saved pointcloud in pc_out\\pointcloud_5_0.00_0.20.ply.\n",
      "Saved pointcloud in pc_out\\pointcloud_5_0.00_0.40.ply.\n",
      "Saved pointcloud in pc_out\\pointcloud_5_0.00_0.60.ply.\n",
      "Saved pointcloud in pc_out\\pointcloud_5_0.00_0.80.ply.\n",
      "Saved pointcloud in pc_out\\pointcloud_5_0.15_0.00.ply.\n",
      "Saved pointcloud in pc_out\\pointcloud_5_0.15_0.20.ply.\n",
      "Saved pointcloud in pc_out\\pointcloud_5_0.15_0.40.ply.\n",
      "Saved pointcloud in pc_out\\pointcloud_5_0.15_0.60.ply.\n",
      "Saved pointcloud in pc_out\\pointcloud_5_0.15_0.80.ply.\n",
      "Saved pointcloud in pc_out\\pointcloud_5_0.30_0.00.ply.\n",
      "Saved pointcloud in pc_out\\pointcloud_5_0.30_0.20.ply.\n",
      "Saved pointcloud in pc_out\\pointcloud_5_0.30_0.40.ply.\n",
      "Saved pointcloud in pc_out\\pointcloud_5_0.30_0.60.ply.\n",
      "Saved pointcloud in pc_out\\pointcloud_5_0.30_0.80.ply.\n",
      "Saved pointcloud in pc_out\\pointcloud_5_0.45_0.00.ply.\n",
      "Saved pointcloud in pc_out\\pointcloud_5_0.45_0.20.ply.\n",
      "Saved pointcloud in pc_out\\pointcloud_5_0.45_0.40.ply.\n",
      "Saved pointcloud in pc_out\\pointcloud_5_0.45_0.60.ply.\n",
      "Saved pointcloud in pc_out\\pointcloud_5_0.45_0.80.ply.\n",
      "Saved pointcloud in pc_out\\pointcloud_5_0.60_0.00.ply.\n",
      "Saved pointcloud in pc_out\\pointcloud_5_0.60_0.20.ply.\n",
      "Saved pointcloud in pc_out\\pointcloud_5_0.60_0.40.ply.\n",
      "Saved pointcloud in pc_out\\pointcloud_5_0.60_0.60.ply.\n",
      "Saved pointcloud in pc_out\\pointcloud_5_0.60_0.80.ply.\n",
      "Saved pointcloud in pc_out\\pointcloud_6_0.00_0.00.ply.\n",
      "Saved pointcloud in pc_out\\pointcloud_6_0.00_0.20.ply.\n",
      "Saved pointcloud in pc_out\\pointcloud_6_0.00_0.40.ply.\n",
      "Saved pointcloud in pc_out\\pointcloud_6_0.00_0.60.ply.\n",
      "Saved pointcloud in pc_out\\pointcloud_6_0.00_0.80.ply.\n",
      "Saved pointcloud in pc_out\\pointcloud_6_0.15_0.00.ply.\n",
      "Saved pointcloud in pc_out\\pointcloud_6_0.15_0.20.ply.\n",
      "Saved pointcloud in pc_out\\pointcloud_6_0.15_0.40.ply.\n",
      "Saved pointcloud in pc_out\\pointcloud_6_0.15_0.60.ply.\n",
      "Saved pointcloud in pc_out\\pointcloud_6_0.15_0.80.ply.\n",
      "Saved pointcloud in pc_out\\pointcloud_6_0.30_0.00.ply.\n",
      "Saved pointcloud in pc_out\\pointcloud_6_0.30_0.20.ply.\n",
      "Saved pointcloud in pc_out\\pointcloud_6_0.30_0.40.ply.\n",
      "Saved pointcloud in pc_out\\pointcloud_6_0.30_0.60.ply.\n",
      "Saved pointcloud in pc_out\\pointcloud_6_0.30_0.80.ply.\n",
      "Saved pointcloud in pc_out\\pointcloud_6_0.45_0.00.ply.\n",
      "Saved pointcloud in pc_out\\pointcloud_6_0.45_0.20.ply.\n",
      "Saved pointcloud in pc_out\\pointcloud_6_0.45_0.40.ply.\n",
      "Saved pointcloud in pc_out\\pointcloud_6_0.45_0.60.ply.\n",
      "Saved pointcloud in pc_out\\pointcloud_6_0.45_0.80.ply.\n",
      "Saved pointcloud in pc_out\\pointcloud_6_0.60_0.00.ply.\n",
      "Saved pointcloud in pc_out\\pointcloud_6_0.60_0.20.ply.\n",
      "Saved pointcloud in pc_out\\pointcloud_6_0.60_0.40.ply.\n",
      "Saved pointcloud in pc_out\\pointcloud_6_0.60_0.60.ply.\n",
      "Saved pointcloud in pc_out\\pointcloud_6_0.60_0.80.ply.\n",
      "Saved pointcloud in pc_out\\pointcloud_7_0.00_0.00.ply.\n",
      "Saved pointcloud in pc_out\\pointcloud_7_0.00_0.20.ply.\n",
      "Saved pointcloud in pc_out\\pointcloud_7_0.00_0.40.ply.\n",
      "Saved pointcloud in pc_out\\pointcloud_7_0.00_0.60.ply.\n",
      "Saved pointcloud in pc_out\\pointcloud_7_0.00_0.80.ply.\n",
      "Saved pointcloud in pc_out\\pointcloud_7_0.15_0.00.ply.\n",
      "Saved pointcloud in pc_out\\pointcloud_7_0.15_0.20.ply.\n",
      "Saved pointcloud in pc_out\\pointcloud_7_0.15_0.40.ply.\n",
      "Saved pointcloud in pc_out\\pointcloud_7_0.15_0.60.ply.\n",
      "Saved pointcloud in pc_out\\pointcloud_7_0.15_0.80.ply.\n",
      "Saved pointcloud in pc_out\\pointcloud_7_0.30_0.00.ply.\n",
      "Saved pointcloud in pc_out\\pointcloud_7_0.30_0.20.ply.\n",
      "Saved pointcloud in pc_out\\pointcloud_7_0.30_0.40.ply.\n",
      "Saved pointcloud in pc_out\\pointcloud_7_0.30_0.60.ply.\n",
      "Saved pointcloud in pc_out\\pointcloud_7_0.30_0.80.ply.\n",
      "Saved pointcloud in pc_out\\pointcloud_7_0.45_0.00.ply.\n",
      "Saved pointcloud in pc_out\\pointcloud_7_0.45_0.20.ply.\n",
      "Saved pointcloud in pc_out\\pointcloud_7_0.45_0.40.ply.\n",
      "Saved pointcloud in pc_out\\pointcloud_7_0.45_0.60.ply.\n",
      "Saved pointcloud in pc_out\\pointcloud_7_0.45_0.80.ply.\n",
      "Saved pointcloud in pc_out\\pointcloud_7_0.60_0.00.ply.\n",
      "Saved pointcloud in pc_out\\pointcloud_7_0.60_0.20.ply.\n",
      "Saved pointcloud in pc_out\\pointcloud_7_0.60_0.40.ply.\n",
      "Saved pointcloud in pc_out\\pointcloud_7_0.60_0.60.ply.\n",
      "Saved pointcloud in pc_out\\pointcloud_7_0.60_0.80.ply.\n"
     ]
    }
   ],
   "source": [
    "augmentation.augment_folder('original_point_clouds','pc_out')"
   ]
  },
  {
   "cell_type": "code",
   "execution_count": 23,
   "metadata": {},
   "outputs": [
    {
     "name": "stdout",
     "output_type": "stream",
     "text": [
      "[PointCloud with 4421 points., PointCloud with 5305 points., PointCloud with 6189 points., PointCloud with 7073 points., PointCloud with 7957 points., PointCloud with 4421 points., PointCloud with 5305 points., PointCloud with 6189 points., PointCloud with 7073 points., PointCloud with 7957 points., PointCloud with 4421 points., PointCloud with 5305 points., PointCloud with 6189 points., PointCloud with 7073 points., PointCloud with 7957 points., PointCloud with 4421 points., PointCloud with 5305 points., PointCloud with 6189 points., PointCloud with 7073 points., PointCloud with 7957 points., PointCloud with 4421 points., PointCloud with 5305 points., PointCloud with 6189 points., PointCloud with 7073 points., PointCloud with 7957 points., PointCloud with 5660 points., PointCloud with 6792 points., PointCloud with 7924 points., PointCloud with 9056 points., PointCloud with 10188 points., PointCloud with 5660 points., PointCloud with 6792 points., PointCloud with 7924 points., PointCloud with 9056 points., PointCloud with 10188 points., PointCloud with 5660 points., PointCloud with 6792 points., PointCloud with 7924 points., PointCloud with 9056 points., PointCloud with 10188 points., PointCloud with 5660 points., PointCloud with 6792 points., PointCloud with 7924 points., PointCloud with 9056 points., PointCloud with 10188 points., PointCloud with 5660 points., PointCloud with 6792 points., PointCloud with 7924 points., PointCloud with 9056 points., PointCloud with 10188 points., PointCloud with 6002 points., PointCloud with 7202 points., PointCloud with 8402 points., PointCloud with 9603 points., PointCloud with 10803 points., PointCloud with 6002 points., PointCloud with 7202 points., PointCloud with 8402 points., PointCloud with 9603 points., PointCloud with 10803 points., PointCloud with 6002 points., PointCloud with 7202 points., PointCloud with 8402 points., PointCloud with 9603 points., PointCloud with 10803 points., PointCloud with 6002 points., PointCloud with 7202 points., PointCloud with 8402 points., PointCloud with 9603 points., PointCloud with 10803 points., PointCloud with 6002 points., PointCloud with 7202 points., PointCloud with 8402 points., PointCloud with 9603 points., PointCloud with 10803 points., PointCloud with 5362 points., PointCloud with 6434 points., PointCloud with 7506 points., PointCloud with 8579 points., PointCloud with 9651 points., PointCloud with 5362 points., PointCloud with 6434 points., PointCloud with 7506 points., PointCloud with 8579 points., PointCloud with 9651 points., PointCloud with 5362 points., PointCloud with 6434 points., PointCloud with 7506 points., PointCloud with 8579 points., PointCloud with 9651 points., PointCloud with 5362 points., PointCloud with 6434 points., PointCloud with 7506 points., PointCloud with 8579 points., PointCloud with 9651 points., PointCloud with 5362 points., PointCloud with 6434 points., PointCloud with 7506 points., PointCloud with 8579 points., PointCloud with 9651 points., PointCloud with 3437 points., PointCloud with 4124 points., PointCloud with 4811 points., PointCloud with 5499 points., PointCloud with 6186 points., PointCloud with 3437 points., PointCloud with 4124 points., PointCloud with 4811 points., PointCloud with 5499 points., PointCloud with 6186 points., PointCloud with 3437 points., PointCloud with 4124 points., PointCloud with 4811 points., PointCloud with 5499 points., PointCloud with 6186 points., PointCloud with 3437 points., PointCloud with 4124 points., PointCloud with 4811 points., PointCloud with 5499 points., PointCloud with 6186 points., PointCloud with 3437 points., PointCloud with 4124 points., PointCloud with 4811 points., PointCloud with 5499 points., PointCloud with 6186 points., PointCloud with 2639 points., PointCloud with 3166 points., PointCloud with 3694 points., PointCloud with 4222 points., PointCloud with 4750 points., PointCloud with 2639 points., PointCloud with 3166 points., PointCloud with 3694 points., PointCloud with 4222 points., PointCloud with 4750 points., PointCloud with 2639 points., PointCloud with 3166 points., PointCloud with 3694 points., PointCloud with 4222 points., PointCloud with 4750 points., PointCloud with 2639 points., PointCloud with 3166 points., PointCloud with 3694 points., PointCloud with 4222 points., PointCloud with 4750 points., PointCloud with 2639 points., PointCloud with 3166 points., PointCloud with 3694 points., PointCloud with 4222 points., PointCloud with 4750 points., PointCloud with 2854 points., PointCloud with 3424 points., PointCloud with 3995 points., PointCloud with 4566 points., PointCloud with 5137 points., PointCloud with 2854 points., PointCloud with 3424 points., PointCloud with 3995 points., PointCloud with 4566 points., PointCloud with 5137 points., PointCloud with 2854 points., PointCloud with 3424 points., PointCloud with 3995 points., PointCloud with 4566 points., PointCloud with 5137 points., PointCloud with 2854 points., PointCloud with 3424 points., PointCloud with 3995 points., PointCloud with 4566 points., PointCloud with 5137 points., PointCloud with 2854 points., PointCloud with 3424 points., PointCloud with 3995 points., PointCloud with 4566 points., PointCloud with 5137 points., PointCloud with 2188 points., PointCloud with 2625 points., PointCloud with 3063 points., PointCloud with 3500 points., PointCloud with 3938 points., PointCloud with 2188 points., PointCloud with 2625 points., PointCloud with 3063 points., PointCloud with 3500 points., PointCloud with 3938 points., PointCloud with 2188 points., PointCloud with 2625 points., PointCloud with 3063 points., PointCloud with 3500 points., PointCloud with 3938 points., PointCloud with 2188 points., PointCloud with 2625 points., PointCloud with 3063 points., PointCloud with 3500 points., PointCloud with 3938 points., PointCloud with 2188 points., PointCloud with 2625 points., PointCloud with 3063 points., PointCloud with 3500 points., PointCloud with 3938 points.]\n"
     ]
    }
   ],
   "source": [
    "lijst = augmentation.load_folder('pc_out')\n",
    "print(lijst)"
   ]
  },
  {
   "cell_type": "code",
   "execution_count": 28,
   "metadata": {},
   "outputs": [
    {
     "data": {
      "text/plain": [
       "(4421, 3)"
      ]
     },
     "execution_count": 28,
     "metadata": {},
     "output_type": "execute_result"
    }
   ],
   "source": [
    "t = lijst[0]\n",
    "pc = np.asarray(t.points)\n",
    "pc.shape"
   ]
  }
 ],
 "metadata": {
  "colab": {
   "collapsed_sections": [
    "WWP0sQ4ntO87",
    "tOiVmN5rtO9E",
    "yYBKgR1MtO9K",
    "antArO3xtO9U",
    "ZkO5kHd6tO9i",
    "w2y9CF4AtO9m",
    "a8MFLzWPtO9p"
   ],
   "name": "MiniProject_Learning_Store_Recommender.ipynb",
   "provenance": [
    {
     "file_id": "1i-i1EOS7uBZClPe8zoBGjeE-6yeNrz-H",
     "timestamp": 1593176441166
    }
   ]
  },
  "kernelspec": {
   "display_name": "Python 3",
   "language": "python",
   "name": "python3"
  },
  "language_info": {
   "codemirror_mode": {
    "name": "ipython",
    "version": 3
   },
   "file_extension": ".py",
   "mimetype": "text/x-python",
   "name": "python",
   "nbconvert_exporter": "python",
   "pygments_lexer": "ipython3",
   "version": "3.9.7"
  }
 },
 "nbformat": 4,
 "nbformat_minor": 1
}
