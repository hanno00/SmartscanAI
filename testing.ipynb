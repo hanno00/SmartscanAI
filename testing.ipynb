{
 "cells": [
  {
   "cell_type": "markdown",
   "metadata": {
    "id": "RIxk8XI6uL6f"
   },
   "source": [
    "# Testing"
   ]
  },
  {
   "cell_type": "code",
   "execution_count": 1,
   "metadata": {},
   "outputs": [],
   "source": [
    "import warnings\n",
    "warnings.filterwarnings(\"ignore\",category=DeprecationWarning,message='.*') \n",
    "warnings.filterwarnings(\"ignore\",category=FutureWarning,message='.*')\n",
    "warnings.filterwarnings(\"ignore\",category=PendingDeprecationWarning,message='.*')"
   ]
  },
  {
   "cell_type": "code",
   "execution_count": 2,
   "metadata": {
    "id": "i2ynUkhmtO8b"
   },
   "outputs": [
    {
     "name": "stdout",
     "output_type": "stream",
     "text": [
      "Jupyter environment detected. Enabling Open3D WebVisualizer.\n",
      "[Open3D INFO] WebRTC GUI backend enabled.\n",
      "[Open3D INFO] WebRTCWindowSystem: HTTP handshake server disabled.\n"
     ]
    }
   ],
   "source": [
    "import numpy as np\n",
    "import os\n",
    "import pandas as pd\n",
    "import open3d as o3d\n",
    "import tensorflow as tf\n",
    "\n",
    "import gym\n",
    "from stable_baselines3 import PPO\n",
    "\n",
    "from Augmentation import Augmentation\n",
    "from PcdController import PcdController as cloud\n",
    "from FootEnvironment import FootEnv"
   ]
  },
  {
   "cell_type": "code",
   "execution_count": 3,
   "metadata": {},
   "outputs": [],
   "source": [
    "if False:\n",
    "    from Augmentation import Augmentation\n",
    "    Augmentation.augment_folder('original_point_clouds','testing')\n",
    "\n",
    "if False:\n",
    "    from Augmentation import Augmentation\n",
    "    Augmentation.augment_file('PointCloudKubus.csv','testing',number=69)"
   ]
  },
  {
   "cell_type": "code",
   "execution_count": 4,
   "metadata": {},
   "outputs": [],
   "source": [
    "l = Augmentation.load_folder('pc_out')"
   ]
  },
  {
   "cell_type": "code",
   "execution_count": 5,
   "metadata": {},
   "outputs": [],
   "source": [
    "sizes = [len(i.points) for i in l]"
   ]
  },
  {
   "cell_type": "code",
   "execution_count": 6,
   "metadata": {},
   "outputs": [
    {
     "name": "stdout",
     "output_type": "stream",
     "text": [
      "[2188, 2188, 2188, 2188, 2188, 2625, 2625, 2625, 2625, 2625, 2639, 2639, 2639, 2639, 2639, 2854, 2854, 2854, 2854, 2854, 3063, 3063, 3063, 3063, 3063, 3166, 3166, 3166, 3166, 3166, 3424, 3424, 3424, 3424, 3424, 3437, 3437, 3437, 3437, 3437, 3500, 3500, 3500, 3500, 3500, 3694, 3694, 3694, 3694, 3694, 3938, 3938, 3938, 3938, 3938, 3995, 3995, 3995, 3995, 3995, 4124, 4124, 4124, 4124, 4124, 4222, 4222, 4222, 4222, 4222, 4421, 4421, 4421, 4421, 4421, 4566, 4566, 4566, 4566, 4566, 4750, 4750, 4750, 4750, 4750, 4811, 4811, 4811, 4811, 4811, 5137, 5137, 5137, 5137, 5137, 5305, 5305, 5305, 5305, 5305, 5362, 5362, 5362, 5362, 5362, 5499, 5499, 5499, 5499, 5499, 5660, 5660, 5660, 5660, 5660, 6002, 6002, 6002, 6002, 6002, 6186, 6186, 6186, 6186, 6186, 6189, 6189, 6189, 6189, 6189, 6434, 6434, 6434, 6434, 6434, 6792, 6792, 6792, 6792, 6792, 7073, 7073, 7073, 7073, 7073, 7202, 7202, 7202, 7202, 7202, 7506, 7506, 7506, 7506, 7506, 7924, 7924, 7924, 7924, 7924, 7957, 7957, 7957, 7957, 7957, 8402, 8402, 8402, 8402, 8402, 8579, 8579, 8579, 8579, 8579, 9056, 9056, 9056, 9056, 9056, 9603, 9603, 9603, 9603, 9603, 9651, 9651, 9651, 9651, 9651, 10188, 10188, 10188, 10188, 10188, 10803, 10803, 10803, 10803, 10803]\n"
     ]
    }
   ],
   "source": [
    "sizes.sort()\n",
    "print(sizes)"
   ]
  },
  {
   "cell_type": "code",
   "execution_count": 11,
   "metadata": {},
   "outputs": [
    {
     "data": {
      "text/plain": [
       "2188"
      ]
     },
     "execution_count": 11,
     "metadata": {},
     "output_type": "execute_result"
    }
   ],
   "source": [
    "t = l[180]\n",
    "len(t.points)"
   ]
  },
  {
   "cell_type": "code",
   "execution_count": 12,
   "metadata": {},
   "outputs": [
    {
     "name": "stdout",
     "output_type": "stream",
     "text": [
      "3000\n"
     ]
    }
   ],
   "source": [
    "pcd = Augmentation.upsample(t,3000)\n",
    "print(len(pcd.points))"
   ]
  }
 ],
 "metadata": {
  "colab": {
   "collapsed_sections": [
    "WWP0sQ4ntO87",
    "tOiVmN5rtO9E",
    "yYBKgR1MtO9K",
    "antArO3xtO9U",
    "ZkO5kHd6tO9i",
    "w2y9CF4AtO9m",
    "a8MFLzWPtO9p"
   ],
   "name": "MiniProject_Learning_Store_Recommender.ipynb",
   "provenance": [
    {
     "file_id": "1i-i1EOS7uBZClPe8zoBGjeE-6yeNrz-H",
     "timestamp": 1593176441166
    }
   ]
  },
  "kernelspec": {
   "display_name": "Python 3",
   "language": "python",
   "name": "python3"
  },
  "language_info": {
   "codemirror_mode": {
    "name": "ipython",
    "version": 3
   },
   "file_extension": ".py",
   "mimetype": "text/x-python",
   "name": "python",
   "nbconvert_exporter": "python",
   "pygments_lexer": "ipython3",
   "version": "3.8.12"
  }
 },
 "nbformat": 4,
 "nbformat_minor": 1
}
